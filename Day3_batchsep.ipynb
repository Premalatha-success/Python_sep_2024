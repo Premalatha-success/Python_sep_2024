{
 "cells": [
  {
   "cell_type": "code",
   "execution_count": 1,
   "id": "3d0a9a53-f6e9-425c-93a9-9bad2745937d",
   "metadata": {},
   "outputs": [
    {
     "name": "stdout",
     "output_type": "stream",
     "text": [
      "positive\n"
     ]
    }
   ],
   "source": [
    "### Check whether the number is positive\n",
    "num=8\n",
    "if num > 0:\n",
    "    print(\"positive\")"
   ]
  },
  {
   "cell_type": "code",
   "execution_count": 2,
   "id": "a48cd1b5-2714-41dc-b307-6e3156aa916f",
   "metadata": {},
   "outputs": [],
   "source": [
    "num=-8\n",
    "if num > 0:\n",
    "    print(\"positive\")"
   ]
  },
  {
   "cell_type": "code",
   "execution_count": 4,
   "id": "6f013306-1e3d-47d0-8270-499198f4f40f",
   "metadata": {},
   "outputs": [
    {
     "name": "stdout",
     "output_type": "stream",
     "text": [
      "negative\n"
     ]
    }
   ],
   "source": [
    "num=-8\n",
    "if num > 0:\n",
    "    print(\"positive\")\n",
    "else:\n",
    "    print(\"negative\")"
   ]
  },
  {
   "cell_type": "code",
   "execution_count": 5,
   "id": "95e7bf0b-1f57-4012-8c7c-2ee47c626dd4",
   "metadata": {},
   "outputs": [
    {
     "name": "stdout",
     "output_type": "stream",
     "text": [
      "negative\n"
     ]
    }
   ],
   "source": [
    "num=0\n",
    "if num > 0:\n",
    "    print(\"positive\")\n",
    "else:\n",
    "    print(\"negative\")"
   ]
  },
  {
   "cell_type": "code",
   "execution_count": 6,
   "id": "8275f381-a580-4c2a-b0c8-3dfcce777fdb",
   "metadata": {},
   "outputs": [
    {
     "name": "stdout",
     "output_type": "stream",
     "text": [
      "zero\n"
     ]
    }
   ],
   "source": [
    "num=0\n",
    "if num > 0:\n",
    "    print(\"positive\")\n",
    "elif num==0:\n",
    "    print(\"zero\")\n",
    "else:\n",
    "    print(\"negative\")"
   ]
  },
  {
   "cell_type": "code",
   "execution_count": 7,
   "id": "c07a5efa-9d60-47d9-9484-e8775be198d0",
   "metadata": {},
   "outputs": [
    {
     "name": "stdout",
     "output_type": "stream",
     "text": [
      "negative\n"
     ]
    }
   ],
   "source": [
    "num=-1\n",
    "if num > 0:\n",
    "    print(\"positive\")\n",
    "elif num==0:\n",
    "    print(\"zero\")\n",
    "else:\n",
    "    print(\"negative\")"
   ]
  },
  {
   "cell_type": "code",
   "execution_count": 8,
   "id": "0811ca23-75ee-4408-8725-c7e7b3af0864",
   "metadata": {},
   "outputs": [
    {
     "name": "stdout",
     "output_type": "stream",
     "text": [
      "positive\n"
     ]
    }
   ],
   "source": [
    "num=8\n",
    "if num > 0:\n",
    "    print(\"positive\")\n",
    "elif num==0:\n",
    "    print(\"zero\")\n",
    "else:\n",
    "    print(\"negative\")"
   ]
  },
  {
   "cell_type": "code",
   "execution_count": 31,
   "id": "34c65bd1-bbe5-4694-a041-dc623ecb3a11",
   "metadata": {},
   "outputs": [
    {
     "name": "stdout",
     "output_type": "stream",
     "text": [
      "Bus fare is 25\n"
     ]
    }
   ],
   "source": [
    "age= 19.9\n",
    "\n",
    "if 0<=age<3:\n",
    "    print(\"No fare for age group 0-3\")\n",
    "elif 3<=age<10:\n",
    "    print(\"Bus fare is 20\")\n",
    "elif 10<=age<20:\n",
    "    print(\"Bus fare is 25\")\n",
    "else:\n",
    "    print(\"Bus fare is 30\")"
   ]
  },
  {
   "cell_type": "code",
   "execution_count": 36,
   "id": "d175b902-4520-4bb3-a461-f5da26f32ddb",
   "metadata": {},
   "outputs": [
    {
     "name": "stdout",
     "output_type": "stream",
     "text": [
      "45 is greater\n"
     ]
    }
   ],
   "source": [
    "num1=45\n",
    "num2=35\n",
    "num3=50\n",
    "if num1>num2:\n",
    "    print(num1,\"is greater\")\n",
    "else:\n",
    "    if num3>num2:\n",
    "        print(num3,\"is greater\")\n",
    "    else:\n",
    "        print(num2,\"is greater\")"
   ]
  },
  {
   "cell_type": "code",
   "execution_count": 45,
   "id": "d9c5edad-8820-4f59-917f-f3c054798e09",
   "metadata": {},
   "outputs": [
    {
     "name": "stdout",
     "output_type": "stream",
     "text": [
      "40000 is greater\n"
     ]
    }
   ],
   "source": [
    "num1=500\n",
    "num2=40000\n",
    "num3=3400\n",
    "if num1>num2 and num1>num3:\n",
    "    print(num1,\"is greater\")\n",
    "else:\n",
    "    if num3>num2:\n",
    "        print(num3,\"is greater\")\n",
    "    else:\n",
    "        print(num2,\"is greater\")"
   ]
  },
  {
   "cell_type": "code",
   "execution_count": 48,
   "id": "0e1b85fa-eaec-4d47-abf5-e2214594fdd0",
   "metadata": {},
   "outputs": [
    {
     "name": "stdout",
     "output_type": "stream",
     "text": [
      "15\n"
     ]
    }
   ],
   "source": [
    "num=5\n",
    "addition=0\n",
    "i=1\n",
    "while i<=num:\n",
    "    addition=addition+i\n",
    "    i=i+1\n",
    "print(addition)"
   ]
  },
  {
   "cell_type": "code",
   "execution_count": 52,
   "id": "d7208f8c-567c-4fac-8aff-9ece0e6a8006",
   "metadata": {},
   "outputs": [
    {
     "name": "stdout",
     "output_type": "stream",
     "text": [
      "4950\n"
     ]
    }
   ],
   "source": [
    "num=range(1,100)\n",
    "addition=0\n",
    "for i in num:\n",
    "    addition=addition+i \n",
    "print(addition)"
   ]
  },
  {
   "cell_type": "code",
   "execution_count": 56,
   "id": "6fc23dc0-30ab-41b8-a539-7c620e366f13",
   "metadata": {},
   "outputs": [
    {
     "name": "stdout",
     "output_type": "stream",
     "text": [
      "1\n",
      "2\n",
      "3\n",
      "4\n",
      "5\n"
     ]
    }
   ],
   "source": [
    "for i in range(1,6):\n",
    "    print(i)"
   ]
  },
  {
   "cell_type": "code",
   "execution_count": 58,
   "id": "90c7812d-904a-4b5b-8c7e-bf74b3146596",
   "metadata": {},
   "outputs": [
    {
     "name": "stdout",
     "output_type": "stream",
     "text": [
      "apple\n",
      "banana\n",
      "cherry\n"
     ]
    }
   ],
   "source": [
    "##list of fruits->apple banana,cherry-> for\n",
    "fruits=[\"apple\",\"banana\",\"cherry\"]\n",
    "for i in fruits:\n",
    "    print(i)"
   ]
  },
  {
   "cell_type": "code",
   "execution_count": 59,
   "id": "70be0d36-8f0b-4724-8008-c3add8fc21a4",
   "metadata": {},
   "outputs": [
    {
     "name": "stdout",
     "output_type": "stream",
     "text": [
      "2\n",
      "4\n",
      "6\n",
      "8\n",
      "10\n"
     ]
    }
   ],
   "source": [
    "for i in range(1,11):\n",
    "    if i%2==0:\n",
    "        print(i)"
   ]
  },
  {
   "cell_type": "code",
   "execution_count": 64,
   "id": "51d1f428-beee-41c2-a596-065243a39709",
   "metadata": {},
   "outputs": [
    {
     "name": "stdout",
     "output_type": "stream",
     "text": [
      "name : A\n",
      "age : 12\n",
      "city : xyz\n"
     ]
    }
   ],
   "source": [
    "person={\"name\":\"A\",\"age\":\"12\",\"city\":\"xyz\"}\n",
    "for key,value in person.items():\n",
    "    print(key,\":\",value)"
   ]
  },
  {
   "cell_type": "code",
   "execution_count": 66,
   "id": "9de12275-e594-47eb-bcdc-652c55b22c5d",
   "metadata": {},
   "outputs": [
    {
     "name": "stdout",
     "output_type": "stream",
     "text": [
      "1\n",
      "2\n",
      "3\n",
      "4\n",
      "5\n"
     ]
    }
   ],
   "source": [
    "i=1\n",
    "while i<=5:\n",
    "    print(i)\n",
    "    i+=1"
   ]
  },
  {
   "cell_type": "code",
   "execution_count": 67,
   "id": "0d08d338-2900-4523-af7f-0b4f7c3e8a76",
   "metadata": {},
   "outputs": [
    {
     "name": "stdout",
     "output_type": "stream",
     "text": [
      "5\n",
      "4\n",
      "3\n",
      "2\n",
      "1\n"
     ]
    }
   ],
   "source": [
    "i = 5\n",
    "while i > 0:\n",
    "    print(i)\n",
    "    i -= 1\n"
   ]
  },
  {
   "cell_type": "code",
   "execution_count": 69,
   "id": "6e93dc33-3923-43ad-8dca-8a97fa1bef23",
   "metadata": {},
   "outputs": [
    {
     "name": "stdout",
     "output_type": "stream",
     "text": [
      "5\n",
      "4\n",
      "3\n",
      "2\n",
      "1\n"
     ]
    }
   ],
   "source": [
    "i = 5\n",
    "while i >= 1:\n",
    "    print(i)\n",
    "    i -= 1"
   ]
  },
  {
   "cell_type": "code",
   "execution_count": 71,
   "id": "c5d7b196-2f39-4608-9e46-9f8b3336663d",
   "metadata": {},
   "outputs": [
    {
     "name": "stdout",
     "output_type": "stream",
     "text": [
      "1\n",
      "3\n",
      "5\n",
      "7\n",
      "9\n",
      "11\n",
      "13\n",
      "15\n",
      "17\n",
      "19\n"
     ]
    }
   ],
   "source": [
    "num = 0\n",
    "i = 1\n",
    "while i<=10:\n",
    "    num =  num+1\n",
    "    if num % 2 != 0:\n",
    "        print(num)\n",
    "        i=i+1"
   ]
  },
  {
   "cell_type": "code",
   "execution_count": 74,
   "id": "2afd4053-85f8-4bc2-bae5-bdf133dea265",
   "metadata": {},
   "outputs": [
    {
     "name": "stdout",
     "output_type": "stream",
     "text": [
      "P\n",
      "y\n",
      "s\n",
      "p\n",
      "a\n",
      "r\n"
     ]
    }
   ],
   "source": [
    "text=\"Pyspark\"\n",
    "for letter in text:\n",
    "    if letter ==\"k\":\n",
    "        break\n",
    "    print(letter)"
   ]
  },
  {
   "cell_type": "code",
   "execution_count": 77,
   "id": "16850425-e71e-4e9c-9c59-3249fb4f2442",
   "metadata": {},
   "outputs": [
    {
     "name": "stdout",
     "output_type": "stream",
     "text": [
      "P\n",
      "y\n",
      "s\n",
      "p\n",
      "r\n",
      "k\n"
     ]
    }
   ],
   "source": [
    "text=\"Pyspark\"\n",
    "for letter in text:\n",
    "    if letter ==\"a\":\n",
    "        continue\n",
    "    print(letter)"
   ]
  },
  {
   "cell_type": "code",
   "execution_count": 79,
   "id": "167bc8e4-1541-43fa-a6ba-d422ca8295ef",
   "metadata": {},
   "outputs": [],
   "source": [
    "text=\"pyspark\"\n",
    "for letter in text:\n",
    "    if letter ==\"p\":\n",
    "        break\n",
    "    print(letter)"
   ]
  },
  {
   "cell_type": "code",
   "execution_count": 81,
   "id": "772deb0b-e95a-4113-bb95-668cda44ffe6",
   "metadata": {},
   "outputs": [
    {
     "name": "stdout",
     "output_type": "stream",
     "text": [
      "D\n",
      "a\n",
      "t\n",
      "a\n",
      "S\n",
      "c\n",
      "i\n",
      "e\n",
      "n\n",
      "c\n"
     ]
    }
   ],
   "source": [
    "text = \"DataSciencce\"\n",
    "i=0\n",
    "for l in text:\n",
    "    if l == \"c\" :\n",
    "        i = i+1\n",
    "        if i== 3:\n",
    "            break\n",
    "    print(l)"
   ]
  },
  {
   "cell_type": "code",
   "execution_count": null,
   "id": "6f27761b-76d5-4adf-9411-358a16be1b71",
   "metadata": {},
   "outputs": [],
   "source": []
  }
 ],
 "metadata": {
  "kernelspec": {
   "display_name": "Python 3 (ipykernel)",
   "language": "python",
   "name": "python3"
  },
  "language_info": {
   "codemirror_mode": {
    "name": "ipython",
    "version": 3
   },
   "file_extension": ".py",
   "mimetype": "text/x-python",
   "name": "python",
   "nbconvert_exporter": "python",
   "pygments_lexer": "ipython3",
   "version": "3.11.7"
  }
 },
 "nbformat": 4,
 "nbformat_minor": 5
}
