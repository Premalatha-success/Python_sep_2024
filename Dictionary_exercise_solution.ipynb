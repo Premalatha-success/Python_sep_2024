{
 "cells": [
  {
   "cell_type": "markdown",
   "id": "a158bc15-7e56-4d7c-aaa7-97093950f80f",
   "metadata": {},
   "source": [
    "1.\tCreate a dictionary with three key-value pairs: name, age, and city.\n"
   ]
  },
  {
   "cell_type": "code",
   "execution_count": 1,
   "id": "945fb54c-1285-4777-8ba5-d6b5d9613e3f",
   "metadata": {},
   "outputs": [
    {
     "data": {
      "text/plain": [
       "{'name': 'Morgan', 'age': 65, 'city': 'pune'}"
      ]
     },
     "execution_count": 1,
     "metadata": {},
     "output_type": "execute_result"
    }
   ],
   "source": [
    "sample_dict={\"name\":\"Morgan\",\"age\":65,\"city\":\"pune\"}\n",
    "sample_dict"
   ]
  },
  {
   "cell_type": "markdown",
   "id": "bf7bcfc8-2502-4fad-86c0-fb3b6fa9395f",
   "metadata": {},
   "source": [
    "2.\tHow would you access the value associated with the key \"age\" in the dictionary {\"name\": \"John\", \"age\": 25, \"city\": \"New York\"}?\n"
   ]
  },
  {
   "cell_type": "code",
   "execution_count": 2,
   "id": "e5f94486-f108-4f5e-8533-6451020977a7",
   "metadata": {},
   "outputs": [
    {
     "data": {
      "text/plain": [
       "25"
      ]
     },
     "execution_count": 2,
     "metadata": {},
     "output_type": "execute_result"
    }
   ],
   "source": [
    "dict2 = {\"name\": \"John\", \"age\": 25, \"city\": \"New York\"}\n",
    "age = dict2[\"age\"]\n",
    "age"
   ]
  },
  {
   "cell_type": "markdown",
   "id": "7262e0b1-d044-4ceb-b358-ef9490305f93",
   "metadata": {},
   "source": [
    "3.\tAdd a new key-value pair to the dictionary {\"brand\": \"Ford\", \"model\": \"Mustang\"} for the year 2020.\n"
   ]
  },
  {
   "cell_type": "code",
   "execution_count": 3,
   "id": "58376e6c-e327-4ef0-856c-d1dd2b8f3a56",
   "metadata": {},
   "outputs": [
    {
     "data": {
      "text/plain": [
       "{'brand': 'Ford', 'model': 'Mustang'}"
      ]
     },
     "execution_count": 3,
     "metadata": {},
     "output_type": "execute_result"
    }
   ],
   "source": [
    "dict={\"brand\": \"Ford\", \"model\": \"Mustang\"} \n",
    "dict"
   ]
  },
  {
   "cell_type": "code",
   "execution_count": 4,
   "id": "9dc82ded-bf05-4872-8474-dace6205d10b",
   "metadata": {},
   "outputs": [
    {
     "data": {
      "text/plain": [
       "{'brand': 'Ford', 'model': 'Mustang', 'year': '2020'}"
      ]
     },
     "execution_count": 4,
     "metadata": {},
     "output_type": "execute_result"
    }
   ],
   "source": [
    "dict['year'] = '2020'\n",
    "dict"
   ]
  },
  {
   "cell_type": "markdown",
   "id": "904db35a-0668-43ea-a09f-2df81eb56e2d",
   "metadata": {},
   "source": [
    "4.\tWrite a Python code to remove the key \"city\" from the dictionary {\"name\": \"Alice\", \"city\": \"Paris\"}.\n"
   ]
  },
  {
   "cell_type": "code",
   "execution_count": 5,
   "id": "b921fcc3-1142-4938-97de-5a3210ef40cd",
   "metadata": {},
   "outputs": [
    {
     "data": {
      "text/plain": [
       "{'name': 'Alice'}"
      ]
     },
     "execution_count": 5,
     "metadata": {},
     "output_type": "execute_result"
    }
   ],
   "source": [
    "dict={\"name\": \"Alice\", \"city\": \"Paris\"}\n",
    "dict.pop(\"city\")\n",
    "dict"
   ]
  },
  {
   "cell_type": "code",
   "execution_count": 6,
   "id": "0543a924-ce3c-4576-a3d1-ea1cd2698a98",
   "metadata": {},
   "outputs": [
    {
     "data": {
      "text/plain": [
       "{'name': 'Alice'}"
      ]
     },
     "execution_count": 6,
     "metadata": {},
     "output_type": "execute_result"
    }
   ],
   "source": [
    "dict1={\"name\": \"Alice\", \"city\": \"Paris\"}\n",
    "del dict1[\"city\"]\n",
    "dict1"
   ]
  },
  {
   "cell_type": "markdown",
   "id": "c4dfe8e0-22ee-4289-896a-dc0641ad107b",
   "metadata": {},
   "source": [
    "5.\tHow would you get all the keys from the dictionary {\"fruit\": \"apple\", \"vegetable\": \"carrot\"}?\n"
   ]
  },
  {
   "cell_type": "code",
   "execution_count": 7,
   "id": "172137e0-7075-4eba-a15a-3f261eba88bc",
   "metadata": {},
   "outputs": [
    {
     "data": {
      "text/plain": [
       "dict_keys(['fruit', 'vegetable'])"
      ]
     },
     "execution_count": 7,
     "metadata": {},
     "output_type": "execute_result"
    }
   ],
   "source": [
    "dict={\"fruit\": \"apple\", \"vegetable\": \"carrot\"}\n",
    "dict.keys()"
   ]
  },
  {
   "cell_type": "code",
   "execution_count": 8,
   "id": "ca135af8-a2aa-4ace-8a97-04288b100c0c",
   "metadata": {},
   "outputs": [
    {
     "data": {
      "text/plain": [
       "dict_values(['apple', 'carrot'])"
      ]
     },
     "execution_count": 8,
     "metadata": {},
     "output_type": "execute_result"
    }
   ],
   "source": [
    "dict.values()"
   ]
  },
  {
   "cell_type": "markdown",
   "id": "b7d036ae-a610-4c54-a040-9150d72d7da7",
   "metadata": {},
   "source": [
    "6.\tCheck if the key \"price\" exists in the dictionary {\"item\": \"pen\", \"color\": \"blue\"}.\n"
   ]
  },
  {
   "cell_type": "code",
   "execution_count": 10,
   "id": "32087cec-2142-4162-a5fc-62fb4fde73a1",
   "metadata": {},
   "outputs": [
    {
     "name": "stdout",
     "output_type": "stream",
     "text": [
      "False\n"
     ]
    }
   ],
   "source": [
    "product={\"item\": \"pen\", \"color\": \"blue\"}\n",
    "print(\"price\" in product)"
   ]
  },
  {
   "cell_type": "markdown",
   "id": "a92d2bfe-86c7-4d45-81f0-10c7fd48e4f9",
   "metadata": {},
   "source": [
    "7.\tMerge the two dictionaries {\"a\": 1, \"b\": 2} and {\"c\": 3, \"d\": 4}.\n"
   ]
  },
  {
   "cell_type": "code",
   "execution_count": 11,
   "id": "57222b9b-9d6d-42f9-9d5b-39e397f2235a",
   "metadata": {},
   "outputs": [
    {
     "data": {
      "text/plain": [
       "{'a': 1, 'b': 2, 'c': 3, 'd': 4}"
      ]
     },
     "execution_count": 11,
     "metadata": {},
     "output_type": "execute_result"
    }
   ],
   "source": [
    "dict1= {\"a\": 1, \"b\": 2} \n",
    "dict2 = {\"c\": 3, \"d\": 4}\n",
    "dict3 = dict1|dict2\n",
    "dict3"
   ]
  },
  {
   "cell_type": "markdown",
   "id": "6c43f75c-8172-4b03-ae00-fff5ef2e13ec",
   "metadata": {},
   "source": [
    "8.\tWrite a Python code to update the value of \"name\" to \"Mike\" in the dictionary {\"name\": \"John\", \"age\": 22}.\n"
   ]
  },
  {
   "cell_type": "code",
   "execution_count": 13,
   "id": "96041507-a1e2-444c-9163-457308883cdf",
   "metadata": {},
   "outputs": [
    {
     "data": {
      "text/plain": [
       "{'name': 'Mike', 'age': 22}"
      ]
     },
     "execution_count": 13,
     "metadata": {},
     "output_type": "execute_result"
    }
   ],
   "source": [
    "dict =  {\"name\": \"John\", \"age\": 22}\n",
    "dict.update(name=\"Mike\")\n",
    "dict"
   ]
  },
  {
   "cell_type": "markdown",
   "id": "318d191e-c84e-465c-ad1a-d59d56f28e84",
   "metadata": {},
   "source": [
    "9.\tHow would you loop through all the key-value pairs in the dictionary {\"animal\": \"dog\", \"sound\": \"bark\"}?\n"
   ]
  },
  {
   "cell_type": "code",
   "execution_count": 14,
   "id": "e92266c5-ddd0-4c9a-b9db-d8b323d7d9e4",
   "metadata": {},
   "outputs": [
    {
     "name": "stdout",
     "output_type": "stream",
     "text": [
      "animal\n",
      "sound\n"
     ]
    }
   ],
   "source": [
    "dicn= {\"animal\": \"dog\", \"sound\": \"bark\"}\n",
    "for x in dicn:\n",
    "  print(x)"
   ]
  },
  {
   "cell_type": "code",
   "execution_count": 15,
   "id": "cec64885-2a8f-4991-9ac6-a10a7d55f4c1",
   "metadata": {},
   "outputs": [
    {
     "name": "stdout",
     "output_type": "stream",
     "text": [
      "('animal', 'dog')\n",
      "('sound', 'bark')\n"
     ]
    }
   ],
   "source": [
    "myDic10 = {\"animal\": \"dog\", \"sound\": \"bark\"}\n",
    "for x in myDic10.items():\n",
    "  print(x)"
   ]
  },
  {
   "cell_type": "code",
   "execution_count": 17,
   "id": "fb14d7d6-e0a3-41ca-85a9-8a139610441f",
   "metadata": {},
   "outputs": [
    {
     "name": "stdout",
     "output_type": "stream",
     "text": [
      "animal : dog\n",
      "sound : bark\n"
     ]
    }
   ],
   "source": [
    "myDic10 = {\"animal\": \"dog\", \"sound\": \"bark\"}\n",
    "for key,value in myDic10.items():\n",
    "  print(key,\":\",value)"
   ]
  },
  {
   "cell_type": "markdown",
   "id": "0f4c7613-c36f-4383-8769-5a11855ff3a7",
   "metadata": {},
   "source": [
    "10.\tCreate an empty dictionary and add three key-value pairs.\n",
    "\n"
   ]
  },
  {
   "cell_type": "code",
   "execution_count": null,
   "id": "2123e6d4-a71a-4696-9d45-2c04161bf8bd",
   "metadata": {},
   "outputs": [],
   "source": [
    "empty_dict={}\n",
    "emp"
   ]
  }
 ],
 "metadata": {
  "kernelspec": {
   "display_name": "Python 3 (ipykernel)",
   "language": "python",
   "name": "python3"
  },
  "language_info": {
   "codemirror_mode": {
    "name": "ipython",
    "version": 3
   },
   "file_extension": ".py",
   "mimetype": "text/x-python",
   "name": "python",
   "nbconvert_exporter": "python",
   "pygments_lexer": "ipython3",
   "version": "3.11.7"
  }
 },
 "nbformat": 4,
 "nbformat_minor": 5
}
