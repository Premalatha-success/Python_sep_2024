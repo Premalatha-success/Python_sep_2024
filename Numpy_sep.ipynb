{
 "cells": [
  {
   "cell_type": "code",
   "execution_count": null,
   "id": "2aa46435-7244-4457-991e-da053705a8c3",
   "metadata": {},
   "outputs": [],
   "source": [
    "Numpy-> Numerical Python-> Play around numbers\n",
    "Pandas-> Dataframe(Rows and columns)->dataframe Manipulation\n",
    "Matplotlib-> Data Visualization\n",
    "Seaborn-> Data Visualization\n",
    "Plotly-> Data Visualization\n",
    "Scikitlearn->sklearn-> Preprocessing and ml algorithm\n",
    "Scipy->Scientific python->Statistical fn"
   ]
  },
  {
   "cell_type": "code",
   "execution_count": 1,
   "id": "ad2b7c47-26a1-4c3d-8259-baa2bb3373d6",
   "metadata": {},
   "outputs": [],
   "source": [
    "import numpy as np"
   ]
  },
  {
   "cell_type": "code",
   "execution_count": 2,
   "id": "e28a1c56-7850-4dce-9185-804d9416bcd1",
   "metadata": {},
   "outputs": [
    {
     "data": {
      "text/plain": [
       "array([1, 2, 3, 4, 5, 6, 7, 8, 9])"
      ]
     },
     "execution_count": 2,
     "metadata": {},
     "output_type": "execute_result"
    }
   ],
   "source": [
    "np.arange(1,10)"
   ]
  },
  {
   "cell_type": "code",
   "execution_count": 3,
   "id": "c475d9ce-315e-48d6-8b59-905d26ad435e",
   "metadata": {},
   "outputs": [
    {
     "data": {
      "text/plain": [
       "array([0, 1, 2, 3, 4, 5, 6, 7, 8, 9])"
      ]
     },
     "execution_count": 3,
     "metadata": {},
     "output_type": "execute_result"
    }
   ],
   "source": [
    "np.arange(10)"
   ]
  },
  {
   "cell_type": "code",
   "execution_count": 4,
   "id": "dac08bc9-e78c-4e3a-9836-99b24fdffdf7",
   "metadata": {},
   "outputs": [
    {
     "data": {
      "text/plain": [
       "array([1, 3, 5, 7, 9])"
      ]
     },
     "execution_count": 4,
     "metadata": {},
     "output_type": "execute_result"
    }
   ],
   "source": [
    "np.arange(1,10,2)"
   ]
  },
  {
   "cell_type": "code",
   "execution_count": 7,
   "id": "656e645c-fb45-4703-a688-3ba86cb4e736",
   "metadata": {},
   "outputs": [
    {
     "data": {
      "text/plain": [
       "array([10,  8,  6,  4,  2])"
      ]
     },
     "execution_count": 7,
     "metadata": {},
     "output_type": "execute_result"
    }
   ],
   "source": [
    "np.arange(10,1,-2)"
   ]
  },
  {
   "cell_type": "code",
   "execution_count": 8,
   "id": "f7030db5-577b-4feb-a2b1-a9568c121d31",
   "metadata": {},
   "outputs": [
    {
     "data": {
      "text/plain": [
       "array([0., 0., 0., 0., 0., 0., 0., 0., 0., 0.])"
      ]
     },
     "execution_count": 8,
     "metadata": {},
     "output_type": "execute_result"
    }
   ],
   "source": [
    "np.zeros(10)"
   ]
  },
  {
   "cell_type": "code",
   "execution_count": 9,
   "id": "79849ebd-1d06-498c-96e2-b08f4ae2cf99",
   "metadata": {},
   "outputs": [
    {
     "data": {
      "text/plain": [
       "array([0, 0, 0, 0, 0, 0, 0, 0, 0, 0])"
      ]
     },
     "execution_count": 9,
     "metadata": {},
     "output_type": "execute_result"
    }
   ],
   "source": [
    "np.zeros(10,int)"
   ]
  },
  {
   "cell_type": "code",
   "execution_count": 10,
   "id": "224fe8fd-8a89-4433-9510-14eebc7177a5",
   "metadata": {},
   "outputs": [
    {
     "data": {
      "text/plain": [
       "array([1., 1., 1., 1., 1., 1., 1., 1., 1., 1.])"
      ]
     },
     "execution_count": 10,
     "metadata": {},
     "output_type": "execute_result"
    }
   ],
   "source": [
    "np.ones(10)"
   ]
  },
  {
   "cell_type": "code",
   "execution_count": 11,
   "id": "bdce045a-adb6-4bc5-add2-59a3a767b2b6",
   "metadata": {},
   "outputs": [
    {
     "data": {
      "text/plain": [
       "array([1, 1, 1, 1, 1, 1, 1, 1, 1, 1])"
      ]
     },
     "execution_count": 11,
     "metadata": {},
     "output_type": "execute_result"
    }
   ],
   "source": [
    "np.ones(10,int)"
   ]
  },
  {
   "cell_type": "code",
   "execution_count": 13,
   "id": "fe94606f-2126-4391-87a3-618306c9fa97",
   "metadata": {},
   "outputs": [
    {
     "data": {
      "text/plain": [
       "array([0. , 0.5, 1. , 1.5, 2. ])"
      ]
     },
     "execution_count": 13,
     "metadata": {},
     "output_type": "execute_result"
    }
   ],
   "source": [
    "np.linspace(0,2,5)"
   ]
  },
  {
   "cell_type": "code",
   "execution_count": 14,
   "id": "e872bac5-d0a5-464b-a612-de37b4356fb5",
   "metadata": {},
   "outputs": [
    {
     "data": {
      "text/plain": [
       "array([[1., 0., 0.],\n",
       "       [0., 1., 0.],\n",
       "       [0., 0., 1.]])"
      ]
     },
     "execution_count": 14,
     "metadata": {},
     "output_type": "execute_result"
    }
   ],
   "source": [
    "np.eye(3)"
   ]
  },
  {
   "cell_type": "code",
   "execution_count": 16,
   "id": "f40af27c-bc15-4a01-ad93-5264d0866285",
   "metadata": {},
   "outputs": [
    {
     "data": {
      "text/plain": [
       "array([[0.95108126, 0.12442965, 0.89087826, 0.94936832],\n",
       "       [0.9716373 , 0.52752043, 0.91393277, 0.93493913],\n",
       "       [0.44459075, 0.73426199, 0.6667469 , 0.96756658]])"
      ]
     },
     "execution_count": 16,
     "metadata": {},
     "output_type": "execute_result"
    }
   ],
   "source": [
    "np.random.rand(3,4) #uniform didtribution"
   ]
  },
  {
   "cell_type": "code",
   "execution_count": 17,
   "id": "3f4dd89f-391b-4ca7-839e-a4bc77e62fbe",
   "metadata": {},
   "outputs": [
    {
     "data": {
      "text/plain": [
       "array([[ 1.27960767,  1.70481026, -0.40199077, -0.07066384],\n",
       "       [-0.75012592,  1.24430294, -0.19537152, -0.94595611],\n",
       "       [-0.59044162,  0.12416245, -0.51448878,  0.66722246]])"
      ]
     },
     "execution_count": 17,
     "metadata": {},
     "output_type": "execute_result"
    }
   ],
   "source": [
    "np.random.randn(3,4) #normal distribution"
   ]
  },
  {
   "cell_type": "code",
   "execution_count": 18,
   "id": "573bab56-9adc-4dba-8101-dbb283c3c5f2",
   "metadata": {},
   "outputs": [
    {
     "data": {
      "text/plain": [
       "1"
      ]
     },
     "execution_count": 18,
     "metadata": {},
     "output_type": "execute_result"
    }
   ],
   "source": [
    "np.random.randint(1,10)"
   ]
  },
  {
   "cell_type": "code",
   "execution_count": 19,
   "id": "8681cfff-7f4f-4be3-a422-f532be6c612b",
   "metadata": {},
   "outputs": [
    {
     "data": {
      "text/plain": [
       "array([9, 8, 2, 3, 6, 7, 5, 2, 1, 8, 2, 1, 3, 7, 4, 8, 1, 7, 5, 2, 9, 9,\n",
       "       9, 4, 3, 4, 1, 8, 5, 4, 7, 3, 8, 6, 8, 3, 5, 5, 1, 1, 4, 3, 2, 4,\n",
       "       4, 3, 4, 4, 6, 9, 8, 7, 1, 2, 3, 4, 6, 8, 7, 6, 3, 6, 2, 5, 6, 7,\n",
       "       9, 1, 1, 4, 9, 1, 6, 5, 2, 2, 1, 7, 5, 4, 5, 4, 3, 4, 1, 4, 7, 8,\n",
       "       4, 5, 2, 3, 4, 9, 7, 3, 2, 3, 6, 7])"
      ]
     },
     "execution_count": 19,
     "metadata": {},
     "output_type": "execute_result"
    }
   ],
   "source": [
    "np.random.randint(1,10,100)"
   ]
  },
  {
   "cell_type": "code",
   "execution_count": 20,
   "id": "9cb47db6-d96a-4d59-927b-7fe39a490bcd",
   "metadata": {},
   "outputs": [
    {
     "data": {
      "text/plain": [
       "array([ 0,  1,  2,  3,  4,  5,  6,  7,  8,  9, 10, 11, 12, 13, 14, 15, 16,\n",
       "       17, 18, 19, 20, 21, 22, 23, 24, 25, 26, 27, 28, 29])"
      ]
     },
     "execution_count": 20,
     "metadata": {},
     "output_type": "execute_result"
    }
   ],
   "source": [
    "sample_array=np.arange(30)\n",
    "sample_array"
   ]
  },
  {
   "cell_type": "code",
   "execution_count": 23,
   "id": "f986b478-cc20-42e7-a542-44fe48b05e45",
   "metadata": {},
   "outputs": [
    {
     "data": {
      "text/plain": [
       "array([[ 0,  1,  2,  3,  4,  5,  6,  7,  8,  9, 10, 11, 12, 13, 14],\n",
       "       [15, 16, 17, 18, 19, 20, 21, 22, 23, 24, 25, 26, 27, 28, 29]])"
      ]
     },
     "execution_count": 23,
     "metadata": {},
     "output_type": "execute_result"
    }
   ],
   "source": [
    "sample_array.reshape(2,15)"
   ]
  },
  {
   "cell_type": "code",
   "execution_count": 24,
   "id": "aee13033-ac45-42c8-a060-f412ae6b350c",
   "metadata": {},
   "outputs": [
    {
     "ename": "ValueError",
     "evalue": "cannot reshape array of size 30 into shape (7,5)",
     "output_type": "error",
     "traceback": [
      "\u001b[1;31m---------------------------------------------------------------------------\u001b[0m",
      "\u001b[1;31mValueError\u001b[0m                                Traceback (most recent call last)",
      "Cell \u001b[1;32mIn[24], line 1\u001b[0m\n\u001b[1;32m----> 1\u001b[0m sample_array\u001b[38;5;241m.\u001b[39mreshape(\u001b[38;5;241m7\u001b[39m,\u001b[38;5;241m5\u001b[39m)\n",
      "\u001b[1;31mValueError\u001b[0m: cannot reshape array of size 30 into shape (7,5)"
     ]
    }
   ],
   "source": [
    "sample_array.reshape(7,5)"
   ]
  },
  {
   "cell_type": "code",
   "execution_count": 25,
   "id": "b2a0ed0e-552e-41a0-80cf-73a4d0bdb13f",
   "metadata": {},
   "outputs": [
    {
     "data": {
      "text/plain": [
       "29"
      ]
     },
     "execution_count": 25,
     "metadata": {},
     "output_type": "execute_result"
    }
   ],
   "source": [
    "sample_array.max()"
   ]
  },
  {
   "cell_type": "code",
   "execution_count": 26,
   "id": "236e7333-c520-42c3-aa48-137b024f9a2b",
   "metadata": {},
   "outputs": [
    {
     "data": {
      "text/plain": [
       "0"
      ]
     },
     "execution_count": 26,
     "metadata": {},
     "output_type": "execute_result"
    }
   ],
   "source": [
    "sample_array.min()"
   ]
  },
  {
   "cell_type": "code",
   "execution_count": 27,
   "id": "ada3184f-723a-4151-a2fe-fb12ea3a583e",
   "metadata": {},
   "outputs": [
    {
     "data": {
      "text/plain": [
       "14.5"
      ]
     },
     "execution_count": 27,
     "metadata": {},
     "output_type": "execute_result"
    }
   ],
   "source": [
    "sample_array.mean()"
   ]
  },
  {
   "cell_type": "code",
   "execution_count": 28,
   "id": "b27e4eed-b167-4b8e-acc7-63f3e1a10b40",
   "metadata": {},
   "outputs": [
    {
     "data": {
      "text/plain": [
       "29"
      ]
     },
     "execution_count": 28,
     "metadata": {},
     "output_type": "execute_result"
    }
   ],
   "source": [
    "sample_array.argmax()"
   ]
  },
  {
   "cell_type": "code",
   "execution_count": 29,
   "id": "6d035fac-2c59-44f2-bfce-92f4acf816b6",
   "metadata": {},
   "outputs": [
    {
     "data": {
      "text/plain": [
       "0"
      ]
     },
     "execution_count": 29,
     "metadata": {},
     "output_type": "execute_result"
    }
   ],
   "source": [
    "sample_array.argmin()"
   ]
  },
  {
   "cell_type": "code",
   "execution_count": 31,
   "id": "daa3edde-16f9-4161-bef3-107dc8d0c328",
   "metadata": {},
   "outputs": [],
   "source": [
    "a=np.random.rand(3,4)"
   ]
  },
  {
   "cell_type": "code",
   "execution_count": 32,
   "id": "404afb9b-c751-4ade-9bfd-2a321b929a3b",
   "metadata": {},
   "outputs": [
    {
     "data": {
      "text/plain": [
       "array([[0.62180721, 0.70494628, 0.52495001, 0.74043213],\n",
       "       [0.88471301, 0.11706498, 0.50082516, 0.26651201],\n",
       "       [0.19947302, 0.57723344, 0.2990291 , 0.81073119]])"
      ]
     },
     "execution_count": 32,
     "metadata": {},
     "output_type": "execute_result"
    }
   ],
   "source": [
    "a"
   ]
  },
  {
   "cell_type": "code",
   "execution_count": 33,
   "id": "0e8d6f03-2f5a-45bd-907d-6a05dfe89f97",
   "metadata": {},
   "outputs": [
    {
     "data": {
      "text/plain": [
       "array([[0.62180721, 0.88471301, 0.19947302],\n",
       "       [0.70494628, 0.11706498, 0.57723344],\n",
       "       [0.52495001, 0.50082516, 0.2990291 ],\n",
       "       [0.74043213, 0.26651201, 0.81073119]])"
      ]
     },
     "execution_count": 33,
     "metadata": {},
     "output_type": "execute_result"
    }
   ],
   "source": [
    "a.T"
   ]
  },
  {
   "cell_type": "code",
   "execution_count": 34,
   "id": "d90ef2db-7489-4922-9319-394d1d214864",
   "metadata": {},
   "outputs": [
    {
     "data": {
      "text/plain": [
       "array([ 0,  1,  2,  3,  4,  5,  6,  7,  8,  9, 10, 11, 12, 13, 14, 15, 16,\n",
       "       17, 18, 19, 20, 21, 22, 23, 24, 25, 26, 27, 28, 29])"
      ]
     },
     "execution_count": 34,
     "metadata": {},
     "output_type": "execute_result"
    }
   ],
   "source": [
    "sample_array"
   ]
  },
  {
   "cell_type": "code",
   "execution_count": 35,
   "id": "12b68267-54f6-4413-8dda-b50c31ea2f44",
   "metadata": {},
   "outputs": [
    {
     "data": {
      "text/plain": [
       "2"
      ]
     },
     "execution_count": 35,
     "metadata": {},
     "output_type": "execute_result"
    }
   ],
   "source": [
    "sample_array[2]"
   ]
  },
  {
   "cell_type": "code",
   "execution_count": 36,
   "id": "9e35283d-7daa-465d-8f16-dc01302ce8f1",
   "metadata": {},
   "outputs": [
    {
     "data": {
      "text/plain": [
       "array([3, 4, 5, 6, 7])"
      ]
     },
     "execution_count": 36,
     "metadata": {},
     "output_type": "execute_result"
    }
   ],
   "source": [
    "sample_array[3:8]"
   ]
  },
  {
   "cell_type": "code",
   "execution_count": 37,
   "id": "6b3a5d81-03ee-431c-883c-c3e525440235",
   "metadata": {},
   "outputs": [
    {
     "data": {
      "text/plain": [
       "array([100,   1,   2,   3,   4,   5,   6,   7,   8,   9,  10,  11,  12,\n",
       "        13,  14,  15,  16,  17,  18,  19,  20,  21,  22,  23,  24,  25,\n",
       "        26,  27,  28,  29])"
      ]
     },
     "execution_count": 37,
     "metadata": {},
     "output_type": "execute_result"
    }
   ],
   "source": [
    "sample_array[0]=100\n",
    "sample_array"
   ]
  },
  {
   "cell_type": "code",
   "execution_count": 40,
   "id": "324d1c15-d875-40c4-821a-c1e751371607",
   "metadata": {},
   "outputs": [],
   "source": [
    "sample_matrix=np.array([[1,4,5,21],[17,32,31,25],[52,32,16,14]])"
   ]
  },
  {
   "cell_type": "code",
   "execution_count": 42,
   "id": "1c31d16a-cead-40de-ade2-1b55a096aeee",
   "metadata": {},
   "outputs": [
    {
     "data": {
      "text/plain": [
       "array([[ 1,  4,  5, 21],\n",
       "       [17, 32, 31, 25],\n",
       "       [52, 32, 16, 14]])"
      ]
     },
     "execution_count": 42,
     "metadata": {},
     "output_type": "execute_result"
    }
   ],
   "source": [
    "sample_matrix"
   ]
  },
  {
   "cell_type": "code",
   "execution_count": 43,
   "id": "986e6a0b-3c52-4832-b24b-3c7ac49c4761",
   "metadata": {},
   "outputs": [
    {
     "data": {
      "text/plain": [
       "31"
      ]
     },
     "execution_count": 43,
     "metadata": {},
     "output_type": "execute_result"
    }
   ],
   "source": [
    "sample_matrix[1,2]"
   ]
  },
  {
   "cell_type": "code",
   "execution_count": 44,
   "id": "73948eb4-35db-4b67-af55-e83fad0a6f15",
   "metadata": {},
   "outputs": [
    {
     "data": {
      "text/plain": [
       "21"
      ]
     },
     "execution_count": 44,
     "metadata": {},
     "output_type": "execute_result"
    }
   ],
   "source": [
    "sample_matrix[0,3]"
   ]
  },
  {
   "cell_type": "code",
   "execution_count": 45,
   "id": "88298f1f-ffc8-493b-bffa-43636a9ccf0b",
   "metadata": {},
   "outputs": [
    {
     "data": {
      "text/plain": [
       "array([17, 32, 31, 25])"
      ]
     },
     "execution_count": 45,
     "metadata": {},
     "output_type": "execute_result"
    }
   ],
   "source": [
    "sample_matrix[1,:]"
   ]
  },
  {
   "cell_type": "code",
   "execution_count": 46,
   "id": "15ab903a-201a-4ebb-a4f3-cd3078b64113",
   "metadata": {},
   "outputs": [
    {
     "data": {
      "text/plain": [
       "array([17, 32, 31, 25])"
      ]
     },
     "execution_count": 46,
     "metadata": {},
     "output_type": "execute_result"
    }
   ],
   "source": [
    "sample_matrix[1]"
   ]
  },
  {
   "cell_type": "code",
   "execution_count": 47,
   "id": "a55da449-3376-4f2e-b5b9-177ff865fb8b",
   "metadata": {},
   "outputs": [
    {
     "data": {
      "text/plain": [
       "array([[ 5,  1],\n",
       "       [31, 17],\n",
       "       [16, 52]])"
      ]
     },
     "execution_count": 47,
     "metadata": {},
     "output_type": "execute_result"
    }
   ],
   "source": [
    "sample_matrix[:,(2,0)]"
   ]
  },
  {
   "cell_type": "code",
   "execution_count": 48,
   "id": "90cf5132-32e1-406a-a7f6-af854591c79d",
   "metadata": {},
   "outputs": [
    {
     "data": {
      "text/plain": [
       "array([100,   1,   2,   3,   4,   5,   6,   7,   8,   9,  10,  11,  12,\n",
       "        13,  14,  15,  16,  17,  18,  19,  20,  21,  22,  23,  24,  25,\n",
       "        26,  27,  28,  29])"
      ]
     },
     "execution_count": 48,
     "metadata": {},
     "output_type": "execute_result"
    }
   ],
   "source": [
    "sample_array"
   ]
  },
  {
   "cell_type": "code",
   "execution_count": 49,
   "id": "1f9ee267-8752-41be-83cc-66e3b01737d6",
   "metadata": {},
   "outputs": [
    {
     "data": {
      "text/plain": [
       "array([200,   2,   4,   6,   8,  10,  12,  14,  16,  18,  20,  22,  24,\n",
       "        26,  28,  30,  32,  34,  36,  38,  40,  42,  44,  46,  48,  50,\n",
       "        52,  54,  56,  58])"
      ]
     },
     "execution_count": 49,
     "metadata": {},
     "output_type": "execute_result"
    }
   ],
   "source": [
    "sample_array+sample_array"
   ]
  },
  {
   "cell_type": "code",
   "execution_count": 50,
   "id": "589e46a4-b64a-4c4e-a77f-29b95c07c8cf",
   "metadata": {},
   "outputs": [
    {
     "data": {
      "text/plain": [
       "17.833333333333332"
      ]
     },
     "execution_count": 50,
     "metadata": {},
     "output_type": "execute_result"
    }
   ],
   "source": [
    "np.mean(sample_array)"
   ]
  },
  {
   "cell_type": "code",
   "execution_count": 51,
   "id": "d82dbfd1-2b7d-4fe0-bdd0-d2dfe7e1afac",
   "metadata": {},
   "outputs": [
    {
     "data": {
      "text/plain": [
       "17.33413459686472"
      ]
     },
     "execution_count": 51,
     "metadata": {},
     "output_type": "execute_result"
    }
   ],
   "source": [
    "np.std(sample_array)"
   ]
  },
  {
   "cell_type": "code",
   "execution_count": 52,
   "id": "8762e8b2-0f24-4d11-b5b4-94a1f079d0a6",
   "metadata": {},
   "outputs": [
    {
     "data": {
      "text/plain": [
       "15.5"
      ]
     },
     "execution_count": 52,
     "metadata": {},
     "output_type": "execute_result"
    }
   ],
   "source": [
    "np.median(sample_array)"
   ]
  },
  {
   "cell_type": "code",
   "execution_count": 53,
   "id": "8a13e7e3-7e43-4682-98e9-dd375ae7fb3e",
   "metadata": {},
   "outputs": [
    {
     "data": {
      "text/plain": [
       "300.47222222222234"
      ]
     },
     "execution_count": 53,
     "metadata": {},
     "output_type": "execute_result"
    }
   ],
   "source": [
    "np.var(sample_array)"
   ]
  },
  {
   "cell_type": "code",
   "execution_count": 54,
   "id": "d15022c3-85e2-400f-b778-7a744f4cfa44",
   "metadata": {},
   "outputs": [
    {
     "data": {
      "text/plain": [
       "array([2.68811714e+43, 2.71828183e+00, 7.38905610e+00, 2.00855369e+01,\n",
       "       5.45981500e+01, 1.48413159e+02, 4.03428793e+02, 1.09663316e+03,\n",
       "       2.98095799e+03, 8.10308393e+03, 2.20264658e+04, 5.98741417e+04,\n",
       "       1.62754791e+05, 4.42413392e+05, 1.20260428e+06, 3.26901737e+06,\n",
       "       8.88611052e+06, 2.41549528e+07, 6.56599691e+07, 1.78482301e+08,\n",
       "       4.85165195e+08, 1.31881573e+09, 3.58491285e+09, 9.74480345e+09,\n",
       "       2.64891221e+10, 7.20048993e+10, 1.95729609e+11, 5.32048241e+11,\n",
       "       1.44625706e+12, 3.93133430e+12])"
      ]
     },
     "execution_count": 54,
     "metadata": {},
     "output_type": "execute_result"
    }
   ],
   "source": [
    "np.exp(sample_array)"
   ]
  },
  {
   "cell_type": "code",
   "execution_count": 55,
   "id": "702bf7ec-afb4-4198-88bf-cff622452fed",
   "metadata": {},
   "outputs": [
    {
     "data": {
      "text/plain": [
       "array([4.60517019, 0.        , 0.69314718, 1.09861229, 1.38629436,\n",
       "       1.60943791, 1.79175947, 1.94591015, 2.07944154, 2.19722458,\n",
       "       2.30258509, 2.39789527, 2.48490665, 2.56494936, 2.63905733,\n",
       "       2.7080502 , 2.77258872, 2.83321334, 2.89037176, 2.94443898,\n",
       "       2.99573227, 3.04452244, 3.09104245, 3.13549422, 3.17805383,\n",
       "       3.21887582, 3.25809654, 3.29583687, 3.33220451, 3.36729583])"
      ]
     },
     "execution_count": 55,
     "metadata": {},
     "output_type": "execute_result"
    }
   ],
   "source": [
    "np.log(sample_array)"
   ]
  },
  {
   "cell_type": "code",
   "execution_count": 57,
   "id": "5d418e4b-c237-4403-af43-1ac04293f2b3",
   "metadata": {},
   "outputs": [
    {
     "data": {
      "text/plain": [
       "array([10000,     1,     4,     9,    16,    25,    36,    49,    64,\n",
       "          81,   100,   121,   144,   169,   196,   225,   256,   289,\n",
       "         324,   361,   400,   441,   484,   529,   576,   625,   676,\n",
       "         729,   784,   841])"
      ]
     },
     "execution_count": 57,
     "metadata": {},
     "output_type": "execute_result"
    }
   ],
   "source": [
    "np.square(sample_array)"
   ]
  },
  {
   "cell_type": "code",
   "execution_count": 58,
   "id": "2ff80397-1902-4dec-8b98-86b13d6eba2f",
   "metadata": {},
   "outputs": [
    {
     "data": {
      "text/plain": [
       "array([10.        ,  1.        ,  1.41421356,  1.73205081,  2.        ,\n",
       "        2.23606798,  2.44948974,  2.64575131,  2.82842712,  3.        ,\n",
       "        3.16227766,  3.31662479,  3.46410162,  3.60555128,  3.74165739,\n",
       "        3.87298335,  4.        ,  4.12310563,  4.24264069,  4.35889894,\n",
       "        4.47213595,  4.58257569,  4.69041576,  4.79583152,  4.89897949,\n",
       "        5.        ,  5.09901951,  5.19615242,  5.29150262,  5.38516481])"
      ]
     },
     "execution_count": 58,
     "metadata": {},
     "output_type": "execute_result"
    }
   ],
   "source": [
    "np.sqrt(sample_array)"
   ]
  },
  {
   "cell_type": "code",
   "execution_count": 59,
   "id": "8f2bc0ae-0fc8-4bf1-9e14-3813d08c86b8",
   "metadata": {},
   "outputs": [
    {
     "data": {
      "text/plain": [
       "0"
      ]
     },
     "execution_count": 59,
     "metadata": {},
     "output_type": "execute_result"
    }
   ],
   "source": [
    "np.argmax(sample_array)"
   ]
  },
  {
   "cell_type": "code",
   "execution_count": 60,
   "id": "4d466c1f-ebdc-464f-8489-283f4c02d90a",
   "metadata": {},
   "outputs": [
    {
     "data": {
      "text/plain": [
       "array([[0.9099446 , 0.88995058, 0.59202211, 0.33996433],\n",
       "       [0.16192477, 0.20130116, 0.2509979 , 0.65537206],\n",
       "       [0.83751627, 0.35247673, 0.00836862, 0.02689592]])"
      ]
     },
     "execution_count": 60,
     "metadata": {},
     "output_type": "execute_result"
    }
   ],
   "source": [
    "array=np.random.rand(3,4)\n",
    "array"
   ]
  },
  {
   "cell_type": "code",
   "execution_count": 64,
   "id": "8c301745-06cc-427d-9000-bf4d8534458c",
   "metadata": {},
   "outputs": [
    {
     "data": {
      "text/plain": [
       "array([[0.91, 0.89, 0.59, 0.34],\n",
       "       [0.16, 0.2 , 0.25, 0.66],\n",
       "       [0.84, 0.35, 0.01, 0.03]])"
      ]
     },
     "execution_count": 64,
     "metadata": {},
     "output_type": "execute_result"
    }
   ],
   "source": [
    "np.round(array,2)"
   ]
  },
  {
   "cell_type": "code",
   "execution_count": 66,
   "id": "2ea41e48-1215-4eff-84f6-0d93495fa602",
   "metadata": {},
   "outputs": [
    {
     "data": {
      "text/plain": [
       "array(['golf', 'cricket', 'football', 'basketball', 'golf'], dtype='<U10')"
      ]
     },
     "execution_count": 66,
     "metadata": {},
     "output_type": "execute_result"
    }
   ],
   "source": [
    "sports=np.array(['golf','cricket','football','basketball','golf'])\n",
    "sports"
   ]
  },
  {
   "cell_type": "code",
   "execution_count": 67,
   "id": "089134c9-ff3e-48a4-90d9-12ac651b81db",
   "metadata": {},
   "outputs": [
    {
     "data": {
      "text/plain": [
       "array(['basketball', 'cricket', 'football', 'golf'], dtype='<U10')"
      ]
     },
     "execution_count": 67,
     "metadata": {},
     "output_type": "execute_result"
    }
   ],
   "source": [
    "np.unique(sports)"
   ]
  },
  {
   "cell_type": "code",
   "execution_count": 68,
   "id": "bf85832a-22a0-446a-8a87-65e8b29b760b",
   "metadata": {},
   "outputs": [],
   "source": [
    "import pandas as pd"
   ]
  },
  {
   "cell_type": "code",
   "execution_count": 70,
   "id": "34f0ae19-a374-497e-ab49-7d90eb792843",
   "metadata": {},
   "outputs": [
    {
     "data": {
      "text/plain": [
       "cricket       1\n",
       "football      2\n",
       "golf          3\n",
       "basketball    4\n",
       "dtype: int64"
      ]
     },
     "execution_count": 70,
     "metadata": {},
     "output_type": "execute_result"
    }
   ],
   "source": [
    "sports1=pd.Series([1,2,3,4],index=[\"cricket\",\"football\",\"golf\",\"basketball\"])\n",
    "sports1"
   ]
  },
  {
   "cell_type": "code",
   "execution_count": 74,
   "id": "07cc2c0d-11c9-4f7f-99be-9ec5bbf832ef",
   "metadata": {},
   "outputs": [
    {
     "data": {
      "text/plain": [
       "cricket       11\n",
       "fball          2\n",
       "golf           3\n",
       "basketball     4\n",
       "hockey         3\n",
       "dtype: int64"
      ]
     },
     "execution_count": 74,
     "metadata": {},
     "output_type": "execute_result"
    }
   ],
   "source": [
    "sports2=pd.Series([11,2,3,4,3],index=[\"cricket\",\"fball\",\"golf\",\"basketball\",\"hockey\"])\n",
    "sports2"
   ]
  },
  {
   "cell_type": "code",
   "execution_count": 75,
   "id": "7f809179-b725-4498-9b55-3be0581e0228",
   "metadata": {},
   "outputs": [
    {
     "data": {
      "text/plain": [
       "basketball     8.0\n",
       "cricket       12.0\n",
       "fball          NaN\n",
       "football       NaN\n",
       "golf           6.0\n",
       "hockey         NaN\n",
       "dtype: float64"
      ]
     },
     "execution_count": 75,
     "metadata": {},
     "output_type": "execute_result"
    }
   ],
   "source": [
    "sports1+sports2"
   ]
  },
  {
   "cell_type": "code",
   "execution_count": null,
   "id": "b08e13bf-6f52-4255-abe2-30030f2f8ec1",
   "metadata": {},
   "outputs": [],
   "source": []
  }
 ],
 "metadata": {
  "kernelspec": {
   "display_name": "Python 3 (ipykernel)",
   "language": "python",
   "name": "python3"
  },
  "language_info": {
   "codemirror_mode": {
    "name": "ipython",
    "version": 3
   },
   "file_extension": ".py",
   "mimetype": "text/x-python",
   "name": "python",
   "nbconvert_exporter": "python",
   "pygments_lexer": "ipython3",
   "version": "3.11.7"
  }
 },
 "nbformat": 4,
 "nbformat_minor": 5
}
