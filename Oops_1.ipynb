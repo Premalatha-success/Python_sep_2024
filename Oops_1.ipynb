{
  "nbformat": 4,
  "nbformat_minor": 0,
  "metadata": {
    "colab": {
      "provenance": []
    },
    "kernelspec": {
      "name": "python3",
      "display_name": "Python 3"
    },
    "language_info": {
      "name": "python"
    }
  },
  "cells": [
    {
      "cell_type": "code",
      "source": [
        "# Define a class named Person\n",
        "class Person:\n",
        "    # Constructor to initialize the attributes (name and age)\n",
        "    def __init__(self, name, age):\n",
        "        self.name = name  # Assign the name attribute\n",
        "        self.age = age    # Assign the age attribute\n",
        "\n",
        "    # Method to display person's information\n",
        "    def display_info(self):\n",
        "        print(f\"Name: {self.name}, Age: {self.age}\")\n",
        "\n",
        "# Create objects of the Person class\n",
        "person1 = Person(\"A\", 30)  # Create a person object with name \"Alice\" and age 30\n",
        "person2 = Person(\"B\", 25)    # Create a person object with name \"Bob\" and age 25\n",
        "\n",
        "# Call the display_info method for each object\n",
        "person1.display_info()  # Output: Name: Alice, Age: 30\n",
        "person2.display_info()  # Output: Name: Bob, Age: 25\n"
      ],
      "metadata": {
        "colab": {
          "base_uri": "https://localhost:8080/"
        },
        "id": "iK84XiO42BnA",
        "outputId": "29da9847-45d6-4022-f123-b1854543257d"
      },
      "execution_count": 8,
      "outputs": [
        {
          "output_type": "stream",
          "name": "stdout",
          "text": [
            "Name: A, Age: 30\n",
            "Name: B, Age: 25\n"
          ]
        }
      ]
    },
    {
      "cell_type": "markdown",
      "source": [
        "An object is any entity that has attributes and behaviors. For example, a parrot is an object. It has\n",
        "\n",
        "attributes - name, age, color, etc.\n",
        "behavior - dancing, singing, etc."
      ],
      "metadata": {
        "id": "EEbo4GO-0JdO"
      }
    },
    {
      "cell_type": "code",
      "execution_count": 1,
      "metadata": {
        "colab": {
          "base_uri": "https://localhost:8080/"
        },
        "id": "zny-yajsyxld",
        "outputId": "72eb3361-ed89-493f-87c6-5da208b19173"
      },
      "outputs": [
        {
          "output_type": "stream",
          "name": "stdout",
          "text": [
            "Blu is 10 years old\n",
            "Woo is 15 years old\n"
          ]
        }
      ],
      "source": [
        "class Parrot:\n",
        "\n",
        "    # class attribute\n",
        "    name = \"\"\n",
        "    age = 0\n",
        "\n",
        "# create parrot1 object\n",
        "parrot1 = Parrot()\n",
        "parrot1.name = \"Blu\"\n",
        "parrot1.age = 10\n",
        "\n",
        "# create another object parrot2\n",
        "parrot2 = Parrot()\n",
        "parrot2.name = \"Woo\"\n",
        "parrot2.age = 15\n",
        "\n",
        "# access attributes\n",
        "print(f\"{parrot1.name} is {parrot1.age} years old\")\n",
        "print(f\"{parrot2.name} is {parrot2.age} years old\")"
      ]
    },
    {
      "cell_type": "markdown",
      "source": [
        "In the above example, we created a class with the name Parrot with two attributes: name and age.\n",
        "\n",
        "Then, we create instances of the Parrot class. Here, parrot1 and parrot2 are references (value) to our new objects.\n",
        "\n",
        "We then accessed and assigned different values to the instance attributes using the objects name and the . notation."
      ],
      "metadata": {
        "id": "Jo51KrP_0WAS"
      }
    },
    {
      "cell_type": "markdown",
      "source": [
        "The newly formed class is a The newly formed class is a derived class (or child class). Similarly, the existing class is a base class (or parent class)."
      ],
      "metadata": {
        "id": "CPPjwGZb0Z2C"
      }
    },
    {
      "cell_type": "code",
      "source": [
        "# base class\n",
        "class Animal:\n",
        "\n",
        "    def eat(self):\n",
        "        print( \"I can eat!\")\n",
        "\n",
        "    def sleep(self):\n",
        "        print(\"I can sleep!\")\n",
        "\n",
        "# derived class\n",
        "class Dog(Animal):\n",
        "\n",
        "    def bark(self):\n",
        "        print(\"I can bark! Woof woof!!\")\n",
        "\n",
        "# Create object of the Dog class\n",
        "dog1 = Dog()\n",
        "\n",
        "# Calling members of the base class\n",
        "dog1.eat()\n",
        "dog1.sleep()\n",
        "\n",
        "# Calling member of the derived class\n",
        "dog1.bark();"
      ],
      "metadata": {
        "colab": {
          "base_uri": "https://localhost:8080/"
        },
        "id": "XTFTqqLlzeyu",
        "outputId": "a1eb91a8-a0cf-49a3-9efd-5ba134b0e5ce"
      },
      "execution_count": 2,
      "outputs": [
        {
          "output_type": "stream",
          "name": "stdout",
          "text": [
            "I can eat!\n",
            "I can sleep!\n",
            "I can bark! Woof woof!!\n"
          ]
        }
      ]
    },
    {
      "cell_type": "code",
      "source": [
        "# Calling members of the Animal class\n",
        "dog1.eat()\n",
        "dog1.sleep()"
      ],
      "metadata": {
        "colab": {
          "base_uri": "https://localhost:8080/"
        },
        "id": "8bjenA5kzitR",
        "outputId": "db1e69ec-35ca-4f44-ce00-2fc632e4664e"
      },
      "execution_count": 3,
      "outputs": [
        {
          "output_type": "stream",
          "name": "stdout",
          "text": [
            "I can eat!\n",
            "I can sleep!\n"
          ]
        }
      ]
    },
    {
      "cell_type": "markdown",
      "source": [
        "Encapsulation is one of the key features of object-oriented programming. Encapsulation refers to the bundling of attributes and methods inside a single class.\n",
        "\n",
        "It prevents outer classes from accessing and changing attributes and methods of a class. This also helps to achieve data hiding.\n",
        "\n",
        "In Python, we denote private attributes using underscore as the prefix i.e single _ or double __. For example,"
      ],
      "metadata": {
        "id": "N91uYpB80mAn"
      }
    },
    {
      "cell_type": "code",
      "source": [
        "\n",
        "class Computer:\n",
        "\n",
        "    def __init__(self):\n",
        "        self.__maxprice = 900\n",
        "\n",
        "    def sell(self):\n",
        "        print(\"Selling Price: {}\".format(self.__maxprice))\n",
        "\n",
        "    def setMaxPrice(self, price):\n",
        "        self.__maxprice = price\n",
        "\n",
        "c = Computer()\n",
        "c.sell()\n",
        "\n",
        "# change the price\n",
        "c.__maxprice = 1000\n",
        "c.sell()\n",
        "\n",
        "# using setter function\n",
        "c.setMaxPrice(1000)\n",
        "c.sell()"
      ],
      "metadata": {
        "colab": {
          "base_uri": "https://localhost:8080/"
        },
        "id": "6QJzJB5Qzn20",
        "outputId": "956c420f-84be-414e-f06b-983f7fc1f63c"
      },
      "execution_count": 4,
      "outputs": [
        {
          "output_type": "stream",
          "name": "stdout",
          "text": [
            "Selling Price: 900\n",
            "Selling Price: 900\n",
            "Selling Price: 1000\n"
          ]
        }
      ]
    },
    {
      "cell_type": "code",
      "source": [
        "c.__maxprice = 1000"
      ],
      "metadata": {
        "id": "RFw4HowBztxA"
      },
      "execution_count": 5,
      "outputs": []
    },
    {
      "cell_type": "markdown",
      "source": [
        "In the above program, we defined a Computer class.\n",
        "\n",
        "We used __init__() method to store the maximum selling price of Computer. Here, notice the code"
      ],
      "metadata": {
        "id": "454Qqpck08jI"
      }
    },
    {
      "cell_type": "markdown",
      "source": [
        "Here, we have tried to modify the value of __maxprice outside of the class. However, since __maxprice is a private variable, this modification is not seen on the output.\n",
        "\n",
        "As shown, to change the value, we have to use a setter function i.e setMaxPrice() which takes price as a parameter.\n",
        "\n"
      ],
      "metadata": {
        "id": "pY6CBSZd1FO1"
      }
    },
    {
      "cell_type": "markdown",
      "source": [
        "Polymorphism is another important concept of object-oriented programming. It simply means more than one form.\n",
        "\n",
        "That is, the same entity (method or operator or object) can perform different operations in different scenarios.\n",
        "\n",
        "Let's see an example,"
      ],
      "metadata": {
        "id": "rtMpo5GL1Kd5"
      }
    },
    {
      "cell_type": "code",
      "source": [
        "class Polygon:\n",
        "    # method to render a shape\n",
        "    def render(self):\n",
        "        print(\"Rendering Polygon...\")\n",
        "\n",
        "class Square(Polygon):\n",
        "    # renders Square\n",
        "    def render(self):\n",
        "        print(\"Rendering Square...\")\n",
        "\n",
        "class Circle(Polygon):\n",
        "    # renders circle\n",
        "    def render(self):\n",
        "        print(\"Rendering Circle...\")\n",
        "\n",
        "# create an object of Square\n",
        "s1 = Square()\n",
        "s1.render()\n",
        "\n",
        "# create an object of Circle\n",
        "c1 = Circle()\n",
        "c1.render()"
      ],
      "metadata": {
        "colab": {
          "base_uri": "https://localhost:8080/"
        },
        "id": "LvjHOqwizx2s",
        "outputId": "04a17f96-20c0-4223-fd73-71b3835af893"
      },
      "execution_count": 6,
      "outputs": [
        {
          "output_type": "stream",
          "name": "stdout",
          "text": [
            "Rendering Square...\n",
            "Rendering Circle...\n"
          ]
        }
      ]
    },
    {
      "cell_type": "code",
      "source": [
        "class BankAccount:\n",
        "    def __init__(self, owner, balance=0):\n",
        "        \"\"\"Initialize account owner and balance\"\"\"\n",
        "        self.owner = owner\n",
        "        self.balance = balance\n",
        "\n",
        "    def deposit(self, amount):\n",
        "        \"\"\"Deposit money into the account\"\"\"\n",
        "        if amount > 0:\n",
        "            self.balance += amount\n",
        "            print(f\"${amount} deposited. New balance: ${self.balance}\")\n",
        "        else:\n",
        "            print(\"Deposit amount must be positive.\")\n",
        "\n",
        "    def withdraw(self, amount):\n",
        "        \"\"\"Withdraw money from the account\"\"\"\n",
        "        if 0 < amount <= self.balance:\n",
        "            self.balance -= amount\n",
        "            print(f\"${amount} withdrawn. New balance: ${self.balance}\")\n",
        "        else:\n",
        "            print(\"Insufficient funds or invalid amount.\")\n",
        "\n",
        "    def check_balance(self):\n",
        "        \"\"\"Check the current balance\"\"\"\n",
        "        print(f\"Current balance: ${self.balance}\")\n"
      ],
      "metadata": {
        "id": "x83_OYkcz2J8"
      },
      "execution_count": 9,
      "outputs": []
    },
    {
      "cell_type": "code",
      "source": [
        "# Create a bank account for Alice\n",
        "alice_account = BankAccount(\"Alice\")\n",
        "\n",
        "# Display initial balance\n",
        "alice_account.check_balance()\n",
        "\n",
        "# Deposit money into Alice's account\n",
        "alice_account.deposit(500)  # Deposit $500\n",
        "alice_account.deposit(200)  # Deposit $200\n",
        "\n",
        "# Try to withdraw more money than the balance\n",
        "alice_account.withdraw(800)  # Should fail\n",
        "\n",
        "# Withdraw a valid amount\n",
        "alice_account.withdraw(300)  # Withdraw $300\n",
        "\n",
        "# Check balance after transactions\n",
        "alice_account.check_balance()\n"
      ],
      "metadata": {
        "colab": {
          "base_uri": "https://localhost:8080/"
        },
        "id": "WmqfYB6K2lLx",
        "outputId": "a3117044-05be-4aeb-b647-d1464feb2578"
      },
      "execution_count": 10,
      "outputs": [
        {
          "output_type": "stream",
          "name": "stdout",
          "text": [
            "Current balance: $0\n",
            "$500 deposited. New balance: $500\n",
            "$200 deposited. New balance: $700\n",
            "Insufficient funds or invalid amount.\n",
            "$300 withdrawn. New balance: $400\n",
            "Current balance: $400\n"
          ]
        }
      ]
    },
    {
      "cell_type": "code",
      "source": [
        "class Library:\n",
        "    def __init__(self, name):\n",
        "        \"\"\"Initialize the library name and an empty dictionary to store books and who borrowed them\"\"\"\n",
        "        self.name = name\n",
        "        self.books = {}  # Dictionary to keep track of book availability and borrowers\n",
        "\n",
        "    def add_book(self, book_name):\n",
        "        \"\"\"Add a book to the library\"\"\"\n",
        "        if book_name not in self.books:\n",
        "            self.books[book_name] = None  # None means the book is not borrowed\n",
        "            print(f\"Book '{book_name}' added to the library.\")\n",
        "        else:\n",
        "            print(f\"Book '{book_name}' already exists in the library.\")\n",
        "\n",
        "    def lend_book(self, book_name, borrower):\n",
        "        \"\"\"Lend a book to a borrower if it's available\"\"\"\n",
        "        if book_name in self.books:\n",
        "            if self.books[book_name] is None:\n",
        "                self.books[book_name] = borrower  # Mark the book as borrowed\n",
        "                print(f\"Book '{book_name}' lent to {borrower}.\")\n",
        "            else:\n",
        "                print(f\"Book '{book_name}' is already borrowed by {self.books[book_name]}.\")\n",
        "        else:\n",
        "            print(f\"Book '{book_name}' is not available in the library.\")\n",
        "\n",
        "    def return_book(self, book_name):\n",
        "        \"\"\"Return a borrowed book back to the library\"\"\"\n",
        "        if book_name in self.books and self.books[book_name] is not None:\n",
        "            print(f\"Book '{book_name}' returned by {self.books[book_name]}.\")\n",
        "            self.books[book_name] = None  # Mark the book as available again\n",
        "        else:\n",
        "            print(f\"Book '{book_name}' was not borrowed or does not belong to this library.\")\n",
        "\n",
        "    def display_books(self):\n",
        "        \"\"\"Display all the books in the library and their status\"\"\"\n",
        "        if not self.books:\n",
        "            print(\"The library has no books.\")\n",
        "        else:\n",
        "            print(f\"Books available in {self.name}:\")\n",
        "            for book, borrower in self.books.items():\n",
        "                status = f\"Borrowed by {borrower}\" if borrower else \"Available\"\n",
        "                print(f\"- {book}: {status}\")\n"
      ],
      "metadata": {
        "id": "hcbabxsw2oJl"
      },
      "execution_count": 11,
      "outputs": []
    },
    {
      "cell_type": "code",
      "source": [
        "# Create a library object\n",
        "my_library = Library(\"City Library\")\n",
        "\n",
        "# Add books to the library\n",
        "my_library.add_book(\"The Great Gatsby\")\n",
        "my_library.add_book(\"Moby Dick\")\n",
        "my_library.add_book(\"1984\")\n",
        "\n",
        "# Display available books\n",
        "my_library.display_books()\n",
        "\n",
        "# Lend a book to a person\n",
        "my_library.lend_book(\"1984\", \"Alice\")\n",
        "my_library.lend_book(\"Moby Dick\", \"Bob\")\n",
        "\n",
        "# Try to lend a book that's already lent out\n",
        "my_library.lend_book(\"1984\", \"Charlie\")\n",
        "\n",
        "# Display books after lending\n",
        "my_library.display_books()\n",
        "\n",
        "# Return a book\n",
        "my_library.return_book(\"1984\")\n",
        "\n",
        "# Display books after returning\n",
        "my_library.display_books()\n",
        "\n",
        "# Try to return a book that wasn't borrowed\n",
        "my_library.return_book(\"The Great Gatsby\")\n"
      ],
      "metadata": {
        "colab": {
          "base_uri": "https://localhost:8080/"
        },
        "id": "earvLkRV22PR",
        "outputId": "1d0218da-d587-4e03-d956-45216dcb09cf"
      },
      "execution_count": 12,
      "outputs": [
        {
          "output_type": "stream",
          "name": "stdout",
          "text": [
            "Book 'The Great Gatsby' added to the library.\n",
            "Book 'Moby Dick' added to the library.\n",
            "Book '1984' added to the library.\n",
            "Books available in City Library:\n",
            "- The Great Gatsby: Available\n",
            "- Moby Dick: Available\n",
            "- 1984: Available\n",
            "Book '1984' lent to Alice.\n",
            "Book 'Moby Dick' lent to Bob.\n",
            "Book '1984' is already borrowed by Alice.\n",
            "Books available in City Library:\n",
            "- The Great Gatsby: Available\n",
            "- Moby Dick: Borrowed by Bob\n",
            "- 1984: Borrowed by Alice\n",
            "Book '1984' returned by Alice.\n",
            "Books available in City Library:\n",
            "- The Great Gatsby: Available\n",
            "- Moby Dick: Borrowed by Bob\n",
            "- 1984: Available\n",
            "Book 'The Great Gatsby' was not borrowed or does not belong to this library.\n"
          ]
        }
      ]
    },
    {
      "cell_type": "code",
      "source": [],
      "metadata": {
        "id": "zocpjaaB257h"
      },
      "execution_count": null,
      "outputs": []
    }
  ]
}