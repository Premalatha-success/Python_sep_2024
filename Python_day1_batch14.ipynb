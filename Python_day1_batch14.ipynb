{
 "cells": [
  {
   "cell_type": "code",
   "execution_count": 1,
   "id": "79f67879-a1d0-4660-8a80-38bc59703cbf",
   "metadata": {},
   "outputs": [
    {
     "name": "stdout",
     "output_type": "stream",
     "text": [
      "Hello World\n"
     ]
    }
   ],
   "source": [
    "print(\"Hello World\")"
   ]
  },
  {
   "cell_type": "code",
   "execution_count": 2,
   "id": "26a9ef3d-26ef-4f67-9cba-bda96c2b763e",
   "metadata": {},
   "outputs": [
    {
     "ename": "NameError",
     "evalue": "name 'Print' is not defined",
     "output_type": "error",
     "traceback": [
      "\u001b[1;31m---------------------------------------------------------------------------\u001b[0m",
      "\u001b[1;31mNameError\u001b[0m                                 Traceback (most recent call last)",
      "Cell \u001b[1;32mIn[2], line 1\u001b[0m\n\u001b[1;32m----> 1\u001b[0m Print(\u001b[38;5;124m\"\u001b[39m\u001b[38;5;124mLatha\u001b[39m\u001b[38;5;124m\"\u001b[39m)\n",
      "\u001b[1;31mNameError\u001b[0m: name 'Print' is not defined"
     ]
    }
   ],
   "source": [
    "Print(\"Latha\")"
   ]
  },
  {
   "cell_type": "code",
   "execution_count": 4,
   "id": "445e68f4-3415-4284-9e1a-6df51a119085",
   "metadata": {},
   "outputs": [
    {
     "name": "stdout",
     "output_type": "stream",
     "text": [
      "Latha\n"
     ]
    }
   ],
   "source": [
    "print(\"Latha\")"
   ]
  },
  {
   "cell_type": "code",
   "execution_count": 3,
   "id": "68be82c9-c8a5-4fe7-bfd1-4d6c7882745f",
   "metadata": {},
   "outputs": [
    {
     "ename": "NameError",
     "evalue": "name 'Latha' is not defined",
     "output_type": "error",
     "traceback": [
      "\u001b[1;31m---------------------------------------------------------------------------\u001b[0m",
      "\u001b[1;31mNameError\u001b[0m                                 Traceback (most recent call last)",
      "Cell \u001b[1;32mIn[3], line 1\u001b[0m\n\u001b[1;32m----> 1\u001b[0m \u001b[38;5;28mprint\u001b[39m(Latha)\n",
      "\u001b[1;31mNameError\u001b[0m: name 'Latha' is not defined"
     ]
    }
   ],
   "source": [
    "print(Latha)"
   ]
  },
  {
   "cell_type": "code",
   "execution_count": 5,
   "id": "666c5735-8482-4f68-aefa-fd9cc947b3ae",
   "metadata": {},
   "outputs": [
    {
     "name": "stdout",
     "output_type": "stream",
     "text": [
      "10\n"
     ]
    }
   ],
   "source": [
    "print(10)"
   ]
  },
  {
   "cell_type": "code",
   "execution_count": 6,
   "id": "5bb348e2-4fb7-44b7-a13b-6152300e4141",
   "metadata": {},
   "outputs": [
    {
     "name": "stdout",
     "output_type": "stream",
     "text": [
      "10.5\n"
     ]
    }
   ],
   "source": [
    "print(10.5)"
   ]
  },
  {
   "cell_type": "code",
   "execution_count": 7,
   "id": "44eeb11c-6703-4382-a8f3-114766070cac",
   "metadata": {},
   "outputs": [
    {
     "ename": "NameError",
     "evalue": "name 'python' is not defined",
     "output_type": "error",
     "traceback": [
      "\u001b[1;31m---------------------------------------------------------------------------\u001b[0m",
      "\u001b[1;31mNameError\u001b[0m                                 Traceback (most recent call last)",
      "Cell \u001b[1;32mIn[7], line 1\u001b[0m\n\u001b[1;32m----> 1\u001b[0m \u001b[38;5;28mprint\u001b[39m(python)\n",
      "\u001b[1;31mNameError\u001b[0m: name 'python' is not defined"
     ]
    }
   ],
   "source": [
    "print(python)"
   ]
  },
  {
   "cell_type": "code",
   "execution_count": 8,
   "id": "6f972fe8-278e-42f6-b932-8a37b81235ae",
   "metadata": {},
   "outputs": [
    {
     "name": "stdout",
     "output_type": "stream",
     "text": [
      "python\n"
     ]
    }
   ],
   "source": [
    "print('python')"
   ]
  },
  {
   "cell_type": "code",
   "execution_count": 9,
   "id": "d202b525-43fc-4c07-8bed-e43135186e6c",
   "metadata": {},
   "outputs": [
    {
     "ename": "SyntaxError",
     "evalue": "unterminated string literal (detected at line 1) (984535130.py, line 1)",
     "output_type": "error",
     "traceback": [
      "\u001b[1;36m  Cell \u001b[1;32mIn[9], line 1\u001b[1;36m\u001b[0m\n\u001b[1;33m    print(\"python')\u001b[0m\n\u001b[1;37m          ^\u001b[0m\n\u001b[1;31mSyntaxError\u001b[0m\u001b[1;31m:\u001b[0m unterminated string literal (detected at line 1)\n"
     ]
    }
   ],
   "source": [
    "print(\"python')"
   ]
  },
  {
   "cell_type": "markdown",
   "id": "5f993700-498b-42d0-abe8-343eb9a20567",
   "metadata": {},
   "source": [
    "##### Python is case-sensitive\n",
    "##### Text(String) should be with inverted comma"
   ]
  },
  {
   "cell_type": "markdown",
   "id": "c55b3253-4ce5-4ffb-abc7-6b64756cd45c",
   "metadata": {},
   "source": [
    "### Datatypes"
   ]
  },
  {
   "cell_type": "code",
   "execution_count": 11,
   "id": "42fc789c-d383-4fb1-acc6-7ce956390781",
   "metadata": {},
   "outputs": [
    {
     "data": {
      "text/plain": [
       "int"
      ]
     },
     "execution_count": 11,
     "metadata": {},
     "output_type": "execute_result"
    }
   ],
   "source": [
    "x=10\n",
    "type(x)"
   ]
  },
  {
   "cell_type": "code",
   "execution_count": 12,
   "id": "bd803435-666c-4823-a008-c44451c3f76b",
   "metadata": {},
   "outputs": [
    {
     "data": {
      "text/plain": [
       "float"
      ]
     },
     "execution_count": 12,
     "metadata": {},
     "output_type": "execute_result"
    }
   ],
   "source": [
    "x=10.6\n",
    "type(x)"
   ]
  },
  {
   "cell_type": "code",
   "execution_count": 13,
   "id": "6d13c9fc-e86f-4b50-a3ba-5a66f86578d1",
   "metadata": {},
   "outputs": [
    {
     "data": {
      "text/plain": [
       "14"
      ]
     },
     "execution_count": 13,
     "metadata": {},
     "output_type": "execute_result"
    }
   ],
   "source": [
    "y=14\n",
    "y"
   ]
  },
  {
   "cell_type": "code",
   "execution_count": 14,
   "id": "643f1536-c838-400a-b69a-25009a647bff",
   "metadata": {},
   "outputs": [
    {
     "name": "stdout",
     "output_type": "stream",
     "text": [
      "14\n"
     ]
    }
   ],
   "source": [
    "print(y)"
   ]
  },
  {
   "cell_type": "code",
   "execution_count": 15,
   "id": "d05504c9-4be8-4216-b1e1-646e04f973ed",
   "metadata": {},
   "outputs": [
    {
     "data": {
      "text/plain": [
       "str"
      ]
     },
     "execution_count": 15,
     "metadata": {},
     "output_type": "execute_result"
    }
   ],
   "source": [
    "x=\"Python\"\n",
    "type(x)"
   ]
  },
  {
   "cell_type": "code",
   "execution_count": 17,
   "id": "bd01e188-a729-4605-b9d2-9d2f24a156c3",
   "metadata": {},
   "outputs": [
    {
     "data": {
      "text/plain": [
       "bool"
      ]
     },
     "execution_count": 17,
     "metadata": {},
     "output_type": "execute_result"
    }
   ],
   "source": [
    "y=True\n",
    "type(y)"
   ]
  },
  {
   "cell_type": "code",
   "execution_count": 18,
   "id": "bd609d5b-e4b9-43a3-947f-d1a080677444",
   "metadata": {},
   "outputs": [
    {
     "ename": "NameError",
     "evalue": "name 'true' is not defined",
     "output_type": "error",
     "traceback": [
      "\u001b[1;31m---------------------------------------------------------------------------\u001b[0m",
      "\u001b[1;31mNameError\u001b[0m                                 Traceback (most recent call last)",
      "Cell \u001b[1;32mIn[18], line 1\u001b[0m\n\u001b[1;32m----> 1\u001b[0m z\u001b[38;5;241m=\u001b[39mtrue\n\u001b[0;32m      2\u001b[0m \u001b[38;5;28mtype\u001b[39m(z)\n",
      "\u001b[1;31mNameError\u001b[0m: name 'true' is not defined"
     ]
    }
   ],
   "source": [
    "z=true\n",
    "type(z)"
   ]
  },
  {
   "cell_type": "code",
   "execution_count": 19,
   "id": "d567536c-0928-41d7-a52b-251edd1e513e",
   "metadata": {},
   "outputs": [
    {
     "data": {
      "text/plain": [
       "str"
      ]
     },
     "execution_count": 19,
     "metadata": {},
     "output_type": "execute_result"
    }
   ],
   "source": [
    "z=\"True\"\n",
    "type(z)"
   ]
  },
  {
   "cell_type": "code",
   "execution_count": 23,
   "id": "a347a8eb-7d4f-4bcb-ab9c-2b4f7925af4e",
   "metadata": {},
   "outputs": [
    {
     "name": "stdout",
     "output_type": "stream",
     "text": [
      "Python\n"
     ]
    },
    {
     "data": {
      "text/plain": [
       "str"
      ]
     },
     "execution_count": 23,
     "metadata": {},
     "output_type": "execute_result"
    }
   ],
   "source": [
    "z=\"Python\"\n",
    "print(z)\n",
    "type(z)"
   ]
  },
  {
   "cell_type": "code",
   "execution_count": 27,
   "id": "33e83f9e-7c2d-429b-87fa-4ddf6bb8a488",
   "metadata": {},
   "outputs": [
    {
     "data": {
      "text/plain": [
       "'Gary'"
      ]
     },
     "execution_count": 27,
     "metadata": {},
     "output_type": "execute_result"
    }
   ],
   "source": [
    "friendname=\"Gary\"\n",
    "friendname"
   ]
  },
  {
   "cell_type": "code",
   "execution_count": 29,
   "id": "0d3aa04b-24a7-4c35-948a-f51fb179eddb",
   "metadata": {},
   "outputs": [
    {
     "data": {
      "text/plain": [
       "'Gary'"
      ]
     },
     "execution_count": 29,
     "metadata": {},
     "output_type": "execute_result"
    }
   ],
   "source": [
    "Friendname=\"Gary\"\n",
    "Friendname"
   ]
  },
  {
   "cell_type": "code",
   "execution_count": 30,
   "id": "acdf98ad-5a15-4e78-a6ce-95e2cb45bbe2",
   "metadata": {},
   "outputs": [
    {
     "data": {
      "text/plain": [
       "'Gary'"
      ]
     },
     "execution_count": 30,
     "metadata": {},
     "output_type": "execute_result"
    }
   ],
   "source": [
    "FRIENDNAME=\"Gary\"\n",
    "FRIENDNAME"
   ]
  },
  {
   "cell_type": "code",
   "execution_count": 32,
   "id": "bb8c2961-42c0-44f8-9b1d-7ff1f02877b8",
   "metadata": {},
   "outputs": [
    {
     "ename": "SyntaxError",
     "evalue": "invalid decimal literal (1731687247.py, line 1)",
     "output_type": "error",
     "traceback": [
      "\u001b[1;36m  Cell \u001b[1;32mIn[32], line 1\u001b[1;36m\u001b[0m\n\u001b[1;33m    2friend=\"Gary\"\u001b[0m\n\u001b[1;37m    ^\u001b[0m\n\u001b[1;31mSyntaxError\u001b[0m\u001b[1;31m:\u001b[0m invalid decimal literal\n"
     ]
    }
   ],
   "source": [
    "2friend=\"Gary\"\n",
    "2friend"
   ]
  },
  {
   "cell_type": "code",
   "execution_count": 33,
   "id": "9719180d-af0e-4415-9d29-495e1fa8366f",
   "metadata": {},
   "outputs": [
    {
     "data": {
      "text/plain": [
       "'Gary'"
      ]
     },
     "execution_count": 33,
     "metadata": {},
     "output_type": "execute_result"
    }
   ],
   "source": [
    "friend1=\"Gary\"\n",
    "friend1"
   ]
  },
  {
   "cell_type": "code",
   "execution_count": 34,
   "id": "f9fb9f50-7437-4741-a798-314a5024b3ea",
   "metadata": {},
   "outputs": [
    {
     "data": {
      "text/plain": [
       "'Gary'"
      ]
     },
     "execution_count": 34,
     "metadata": {},
     "output_type": "execute_result"
    }
   ],
   "source": [
    "f1riend=\"Gary\"\n",
    "f1riend"
   ]
  },
  {
   "cell_type": "markdown",
   "id": "c9be48a9-5df1-472e-91c6-907177d948ac",
   "metadata": {},
   "source": [
    "##### Variable name should start with A-Z , a-z or _\n",
    "##### Variable name should not start with a number"
   ]
  },
  {
   "cell_type": "code",
   "execution_count": 25,
   "id": "57e2a482-f56b-4765-9d59-1494098ac82e",
   "metadata": {},
   "outputs": [
    {
     "ename": "SyntaxError",
     "evalue": "invalid syntax (145031675.py, line 1)",
     "output_type": "error",
     "traceback": [
      "\u001b[1;36m  Cell \u001b[1;32mIn[25], line 1\u001b[1;36m\u001b[0m\n\u001b[1;33m    friend name=\"Gary\"\u001b[0m\n\u001b[1;37m           ^\u001b[0m\n\u001b[1;31mSyntaxError\u001b[0m\u001b[1;31m:\u001b[0m invalid syntax\n"
     ]
    }
   ],
   "source": [
    "friend name=\"Gary\"\n",
    "friend name"
   ]
  },
  {
   "cell_type": "markdown",
   "id": "bbbd686f-459e-4793-8124-c413e84d0801",
   "metadata": {},
   "source": [
    "##### Space is not allowed"
   ]
  },
  {
   "cell_type": "code",
   "execution_count": 36,
   "id": "f930a27a-de89-4ec0-86e7-b10ca9aa6381",
   "metadata": {},
   "outputs": [
    {
     "ename": "SyntaxError",
     "evalue": "invalid syntax (3736140144.py, line 1)",
     "output_type": "error",
     "traceback": [
      "\u001b[1;36m  Cell \u001b[1;32mIn[36], line 1\u001b[1;36m\u001b[0m\n\u001b[1;33m    friend$name=\"Gary\"\u001b[0m\n\u001b[1;37m          ^\u001b[0m\n\u001b[1;31mSyntaxError\u001b[0m\u001b[1;31m:\u001b[0m invalid syntax\n"
     ]
    }
   ],
   "source": [
    "friend$name=\"Gary\"\n",
    "friend$name"
   ]
  },
  {
   "cell_type": "code",
   "execution_count": 37,
   "id": "7b5178e5-324c-4d26-bb59-90bfdbd98e26",
   "metadata": {},
   "outputs": [
    {
     "data": {
      "text/plain": [
       "'Gary'"
      ]
     },
     "execution_count": 37,
     "metadata": {},
     "output_type": "execute_result"
    }
   ],
   "source": [
    "friend_name=\"Gary\"\n",
    "friend_name"
   ]
  },
  {
   "cell_type": "code",
   "execution_count": 38,
   "id": "96fcc1c0-6d67-412d-be61-b2ac9bfd8a7d",
   "metadata": {},
   "outputs": [
    {
     "data": {
      "text/plain": [
       "'Gary'"
      ]
     },
     "execution_count": 38,
     "metadata": {},
     "output_type": "execute_result"
    }
   ],
   "source": [
    "_friendname=\"Gary\"\n",
    "_friendname"
   ]
  },
  {
   "cell_type": "markdown",
   "id": "f1d04d41-7138-4b35-979f-8649e27f666d",
   "metadata": {},
   "source": [
    "##### The only allowed spl char is _"
   ]
  },
  {
   "cell_type": "code",
   "execution_count": 39,
   "id": "ae3d50ec-0959-48b0-b265-d4f59e4179fe",
   "metadata": {},
   "outputs": [
    {
     "data": {
      "text/plain": [
       "'hjhklkjk'"
      ]
     },
     "execution_count": 39,
     "metadata": {},
     "output_type": "execute_result"
    }
   ],
   "source": [
    "list=\"hjhklkjk\"\n",
    "list"
   ]
  },
  {
   "cell_type": "markdown",
   "id": "f1524193-dbab-4627-bf80-e4c4684c8944",
   "metadata": {},
   "source": [
    "##### Keywords not preferable"
   ]
  },
  {
   "cell_type": "code",
   "execution_count": 41,
   "id": "f349c9cf-8a9a-4006-809b-5a35fd9a72f0",
   "metadata": {},
   "outputs": [
    {
     "name": "stdout",
     "output_type": "stream",
     "text": [
      "Gary\n",
      "30\n",
      "Single\n",
      "100000\n"
     ]
    }
   ],
   "source": [
    "name=\"Gary\"\n",
    "age=30\n",
    "salary=100000\n",
    "marital_status=\"Single\"\n",
    "print(name)\n",
    "print(age)\n",
    "print(marital_status)\n",
    "print(salary)"
   ]
  },
  {
   "cell_type": "code",
   "execution_count": 42,
   "id": "1ea4da32-3450-401a-b8fe-9105084f567e",
   "metadata": {},
   "outputs": [],
   "source": [
    "name=\"Reeta\""
   ]
  },
  {
   "cell_type": "code",
   "execution_count": 43,
   "id": "a22ceba4-c6a0-496f-b0e9-04939e22fa4a",
   "metadata": {},
   "outputs": [
    {
     "data": {
      "text/plain": [
       "'Reeta'"
      ]
     },
     "execution_count": 43,
     "metadata": {},
     "output_type": "execute_result"
    }
   ],
   "source": [
    "name"
   ]
  },
  {
   "cell_type": "code",
   "execution_count": 44,
   "id": "56b5eca2-ba8b-4a5f-9909-08346ba97695",
   "metadata": {},
   "outputs": [
    {
     "name": "stdout",
     "output_type": "stream",
     "text": [
      "Reeta\n",
      "30\n",
      "Single\n",
      "100000\n"
     ]
    }
   ],
   "source": [
    "print(name)\n",
    "print(age)\n",
    "print(marital_status)\n",
    "print(salary)"
   ]
  },
  {
   "cell_type": "code",
   "execution_count": 45,
   "id": "6f365be9-6c05-450a-ab8c-204824e0ae84",
   "metadata": {},
   "outputs": [
    {
     "data": {
      "text/plain": [
       "2"
      ]
     },
     "execution_count": 45,
     "metadata": {},
     "output_type": "execute_result"
    }
   ],
   "source": [
    "x,y,z=2,4,1\n",
    "x"
   ]
  },
  {
   "cell_type": "code",
   "execution_count": 46,
   "id": "7cb38f39-723b-4532-828a-5fd1e6f493bf",
   "metadata": {},
   "outputs": [
    {
     "data": {
      "text/plain": [
       "4"
      ]
     },
     "execution_count": 46,
     "metadata": {},
     "output_type": "execute_result"
    }
   ],
   "source": [
    "y"
   ]
  },
  {
   "cell_type": "code",
   "execution_count": 47,
   "id": "ec906164-0098-453f-a61f-4d2aed4697bc",
   "metadata": {},
   "outputs": [
    {
     "data": {
      "text/plain": [
       "1"
      ]
     },
     "execution_count": 47,
     "metadata": {},
     "output_type": "execute_result"
    }
   ],
   "source": [
    "z"
   ]
  },
  {
   "cell_type": "code",
   "execution_count": 48,
   "id": "6416e170-ec23-4aa8-84df-58245e81de82",
   "metadata": {},
   "outputs": [
    {
     "data": {
      "text/plain": [
       "25"
      ]
     },
     "execution_count": 48,
     "metadata": {},
     "output_type": "execute_result"
    }
   ],
   "source": [
    "x=y=z=25\n",
    "y"
   ]
  },
  {
   "cell_type": "code",
   "execution_count": 49,
   "id": "e725f597-7062-464d-8637-213b2471ea4a",
   "metadata": {},
   "outputs": [
    {
     "data": {
      "text/plain": [
       "10"
      ]
     },
     "execution_count": 49,
     "metadata": {},
     "output_type": "execute_result"
    }
   ],
   "source": [
    "25+52-67"
   ]
  },
  {
   "cell_type": "code",
   "execution_count": 54,
   "id": "8c40672f-96a2-4249-bfb2-cccbbc2ad60e",
   "metadata": {},
   "outputs": [
    {
     "data": {
      "text/plain": [
       "0.7999999999999998"
      ]
     },
     "execution_count": 54,
     "metadata": {},
     "output_type": "execute_result"
    }
   ],
   "source": [
    "5-4.2"
   ]
  },
  {
   "cell_type": "code",
   "execution_count": 53,
   "id": "92dfa198-0708-4ebe-9715-6da104f543b7",
   "metadata": {},
   "outputs": [
    {
     "data": {
      "text/plain": [
       "25"
      ]
     },
     "execution_count": 53,
     "metadata": {},
     "output_type": "execute_result"
    }
   ],
   "source": [
    "5*5"
   ]
  },
  {
   "cell_type": "code",
   "execution_count": 55,
   "id": "8d8542b1-85c6-4649-97ea-e304c4d46eb3",
   "metadata": {},
   "outputs": [
    {
     "data": {
      "text/plain": [
       "1.0"
      ]
     },
     "execution_count": 55,
     "metadata": {},
     "output_type": "execute_result"
    }
   ],
   "source": [
    "5/5"
   ]
  },
  {
   "cell_type": "code",
   "execution_count": 57,
   "id": "1e36b693-023c-44ac-a068-47d9e8a5fe14",
   "metadata": {},
   "outputs": [
    {
     "ename": "TypeError",
     "evalue": "unsupported operand type(s) for +: 'float' and 'str'",
     "output_type": "error",
     "traceback": [
      "\u001b[1;31m---------------------------------------------------------------------------\u001b[0m",
      "\u001b[1;31mTypeError\u001b[0m                                 Traceback (most recent call last)",
      "Cell \u001b[1;32mIn[57], line 3\u001b[0m\n\u001b[0;32m      1\u001b[0m price\u001b[38;5;241m=\u001b[39m\u001b[38;5;241m250.00\u001b[39m\n\u001b[0;32m      2\u001b[0m tax\u001b[38;5;241m=\u001b[39m\u001b[38;5;124m\"\u001b[39m\u001b[38;5;124m2.5\u001b[39m\u001b[38;5;124m\"\u001b[39m\n\u001b[1;32m----> 3\u001b[0m total\u001b[38;5;241m=\u001b[39mprice\u001b[38;5;241m+\u001b[39mtax\n\u001b[0;32m      4\u001b[0m total\n",
      "\u001b[1;31mTypeError\u001b[0m: unsupported operand type(s) for +: 'float' and 'str'"
     ]
    }
   ],
   "source": [
    "price=250.00\n",
    "tax=\"2.5\"\n",
    "total=price+tax\n",
    "total"
   ]
  },
  {
   "cell_type": "code",
   "execution_count": 58,
   "id": "51aa4448-7eee-4628-9285-e4c92a3f96bb",
   "metadata": {},
   "outputs": [
    {
     "data": {
      "text/plain": [
       "252.5"
      ]
     },
     "execution_count": 58,
     "metadata": {},
     "output_type": "execute_result"
    }
   ],
   "source": [
    "total=price+float(tax)\n",
    "total"
   ]
  },
  {
   "cell_type": "code",
   "execution_count": 59,
   "id": "40fc437f-4819-41da-af80-1b603152e611",
   "metadata": {},
   "outputs": [
    {
     "data": {
      "text/plain": [
       "'PremaLatha'"
      ]
     },
     "execution_count": 59,
     "metadata": {},
     "output_type": "execute_result"
    }
   ],
   "source": [
    "x=\"Prema\"\n",
    "y=\"Latha\"\n",
    "z=x+y\n",
    "z"
   ]
  },
  {
   "cell_type": "code",
   "execution_count": 61,
   "id": "09843d5a-2ef0-43fa-967c-f3d8af235006",
   "metadata": {},
   "outputs": [
    {
     "data": {
      "text/plain": [
       "1.0"
      ]
     },
     "execution_count": 61,
     "metadata": {},
     "output_type": "execute_result"
    }
   ],
   "source": [
    "x=True\n",
    "y=True\n",
    "z=x/y\n",
    "z"
   ]
  },
  {
   "cell_type": "code",
   "execution_count": null,
   "id": "7c819e76-fc60-4177-a6b0-0d361d12b7ad",
   "metadata": {},
   "outputs": [],
   "source": [
    "name=int(input(\"Enter your name:\"))\n",
    "print(\"welcome\",name)"
   ]
  },
  {
   "cell_type": "code",
   "execution_count": null,
   "id": "13a7205a-e2ea-4edb-9360-d03693fd5189",
   "metadata": {},
   "outputs": [],
   "source": [
    "type(name)"
   ]
  },
  {
   "cell_type": "code",
   "execution_count": 1,
   "id": "bad6d536-aedc-4a3a-af96-e894e799a630",
   "metadata": {},
   "outputs": [
    {
     "name": "stdout",
     "output_type": "stream",
     "text": [
      "Positive\n"
     ]
    }
   ],
   "source": [
    "### Conditional Programming\n",
    "x=10\n",
    "if x>0:\n",
    "    print(\"Positive\")"
   ]
  },
  {
   "cell_type": "code",
   "execution_count": 2,
   "id": "45204745-0519-445f-b888-f49633a28b5b",
   "metadata": {},
   "outputs": [],
   "source": [
    "x=-10\n",
    "if x>0:\n",
    "    print(\"Positive\")"
   ]
  },
  {
   "cell_type": "code",
   "execution_count": 5,
   "id": "47c18f52-8648-4024-b125-6650b334e6ad",
   "metadata": {},
   "outputs": [
    {
     "name": "stdout",
     "output_type": "stream",
     "text": [
      "negative\n"
     ]
    }
   ],
   "source": [
    "x=0\n",
    "if x>0:\n",
    "    print(\"Positive\")\n",
    "else:\n",
    "    print(\"negative\")"
   ]
  },
  {
   "cell_type": "code",
   "execution_count": 8,
   "id": "136c1bad-c530-4690-a316-c1e63ebd69e5",
   "metadata": {},
   "outputs": [
    {
     "name": "stdout",
     "output_type": "stream",
     "text": [
      "Positive\n"
     ]
    }
   ],
   "source": [
    "x=10\n",
    "if x>0:\n",
    "    print(\"Positive\")\n",
    "elif x==0:\n",
    "    print(\"zero\")\n",
    "else:\n",
    "    print(\"negative\")"
   ]
  },
  {
   "cell_type": "code",
   "execution_count": 1,
   "id": "86a832c6-9f20-4e94-9bf3-dfdd05ff1b95",
   "metadata": {},
   "outputs": [
    {
     "name": "stdout",
     "output_type": "stream",
     "text": [
      "Young\n"
     ]
    }
   ],
   "source": [
    "x=12.5\n",
    "if x>0 and x<=12:\n",
    "    print(\"Child\")\n",
    "elif x>12 and x<=24:\n",
    "    print(\"Young\")    \n",
    "elif x>24 and x<=60:\n",
    "    print(\"Adult\")\n",
    "elif x>60:\n",
    "    print(\"SeniorCitizen\")    \n",
    "else:\n",
    "    print(\"Unknown\")"
   ]
  },
  {
   "cell_type": "code",
   "execution_count": null,
   "id": "1e3fb8d3-3748-4015-ac39-bcb151c4b3d6",
   "metadata": {},
   "outputs": [],
   "source": [
    "age=float(input(\"Enter the age:\"))\n",
    "if age<=12:\n",
    "    print(\"Kid\")\n",
    "elif age>12 and age<=24:\n",
    "    print(\"young\")\n",
    "elif age>=25 and age<=60:\n",
    "    print(\"adult\")\n",
    "else:\n",
    "    print(\"senior citizen\")"
   ]
  },
  {
   "cell_type": "markdown",
   "id": "5410c0b8-3615-4329-9799-79a073d05bb5",
   "metadata": {},
   "source": [
    "### Data Structures\n"
   ]
  },
  {
   "cell_type": "markdown",
   "id": "9bb01a23-d578-4e69-8408-7626b044b22f",
   "metadata": {},
   "source": [
    "#### Strings"
   ]
  },
  {
   "cell_type": "code",
   "execution_count": 2,
   "id": "dd2b3c75-c820-4b9c-99a3-f110c6cf4c37",
   "metadata": {},
   "outputs": [
    {
     "name": "stdout",
     "output_type": "stream",
     "text": [
      "Python\n"
     ]
    },
    {
     "data": {
      "text/plain": [
       "str"
      ]
     },
     "execution_count": 2,
     "metadata": {},
     "output_type": "execute_result"
    }
   ],
   "source": [
    "name=\"Python\"\n",
    "print(name)\n",
    "type(name)"
   ]
  },
  {
   "cell_type": "code",
   "execution_count": 3,
   "id": "e3bf4768-62c0-4bd6-a72e-fb8564acc97f",
   "metadata": {},
   "outputs": [
    {
     "data": {
      "text/plain": [
       "'P'"
      ]
     },
     "execution_count": 3,
     "metadata": {},
     "output_type": "execute_result"
    }
   ],
   "source": [
    "name[0]"
   ]
  },
  {
   "cell_type": "code",
   "execution_count": 4,
   "id": "1cb6eb00-d584-4cd8-a2e7-a4ef36f1ba7a",
   "metadata": {},
   "outputs": [
    {
     "data": {
      "text/plain": [
       "'h'"
      ]
     },
     "execution_count": 4,
     "metadata": {},
     "output_type": "execute_result"
    }
   ],
   "source": [
    "name[3]"
   ]
  },
  {
   "cell_type": "code",
   "execution_count": 5,
   "id": "cfd558fe-b5a4-4311-92f8-b34752470169",
   "metadata": {},
   "outputs": [
    {
     "data": {
      "text/plain": [
       "'n'"
      ]
     },
     "execution_count": 5,
     "metadata": {},
     "output_type": "execute_result"
    }
   ],
   "source": [
    "name[5]"
   ]
  },
  {
   "cell_type": "code",
   "execution_count": 7,
   "id": "3d30ab9f-ec2d-46d1-aa20-6f7e034c9eb3",
   "metadata": {},
   "outputs": [
    {
     "ename": "IndexError",
     "evalue": "string index out of range",
     "output_type": "error",
     "traceback": [
      "\u001b[1;31m---------------------------------------------------------------------------\u001b[0m",
      "\u001b[1;31mIndexError\u001b[0m                                Traceback (most recent call last)",
      "Cell \u001b[1;32mIn[7], line 1\u001b[0m\n\u001b[1;32m----> 1\u001b[0m name[\u001b[38;5;241m6\u001b[39m]\n",
      "\u001b[1;31mIndexError\u001b[0m: string index out of range"
     ]
    }
   ],
   "source": [
    "name[6]"
   ]
  },
  {
   "cell_type": "code",
   "execution_count": 8,
   "id": "73fb476a-0a86-4632-81c9-6d01cee9bd8c",
   "metadata": {},
   "outputs": [
    {
     "data": {
      "text/plain": [
       "'n'"
      ]
     },
     "execution_count": 8,
     "metadata": {},
     "output_type": "execute_result"
    }
   ],
   "source": [
    "name[-1]"
   ]
  },
  {
   "cell_type": "code",
   "execution_count": 9,
   "id": "6aa654b2-4b4d-4243-a3e9-760c496b3cbf",
   "metadata": {},
   "outputs": [
    {
     "data": {
      "text/plain": [
       "'P'"
      ]
     },
     "execution_count": 9,
     "metadata": {},
     "output_type": "execute_result"
    }
   ],
   "source": [
    "name[-6]"
   ]
  },
  {
   "cell_type": "code",
   "execution_count": 10,
   "id": "f6098570-bae7-4802-b5b1-ccaa43dd539d",
   "metadata": {},
   "outputs": [
    {
     "ename": "IndexError",
     "evalue": "string index out of range",
     "output_type": "error",
     "traceback": [
      "\u001b[1;31m---------------------------------------------------------------------------\u001b[0m",
      "\u001b[1;31mIndexError\u001b[0m                                Traceback (most recent call last)",
      "Cell \u001b[1;32mIn[10], line 1\u001b[0m\n\u001b[1;32m----> 1\u001b[0m name[\u001b[38;5;241m-\u001b[39m\u001b[38;5;241m7\u001b[39m]\n",
      "\u001b[1;31mIndexError\u001b[0m: string index out of range"
     ]
    }
   ],
   "source": [
    "name[-7]"
   ]
  },
  {
   "cell_type": "code",
   "execution_count": 11,
   "id": "1519511c-5290-426d-a276-717a1cc18526",
   "metadata": {},
   "outputs": [
    {
     "data": {
      "text/plain": [
       "'Pyt'"
      ]
     },
     "execution_count": 11,
     "metadata": {},
     "output_type": "execute_result"
    }
   ],
   "source": [
    "name[0:3]"
   ]
  },
  {
   "cell_type": "code",
   "execution_count": 12,
   "id": "3fa89341-e9f1-4647-bba4-cd4bcf4eae9a",
   "metadata": {},
   "outputs": [
    {
     "data": {
      "text/plain": [
       "''"
      ]
     },
     "execution_count": 12,
     "metadata": {},
     "output_type": "execute_result"
    }
   ],
   "source": [
    "name[-1:-3]"
   ]
  },
  {
   "cell_type": "code",
   "execution_count": 13,
   "id": "b27e0aa4-a8d8-4003-856e-d930f91316c1",
   "metadata": {},
   "outputs": [
    {
     "data": {
      "text/plain": [
       "''"
      ]
     },
     "execution_count": 13,
     "metadata": {},
     "output_type": "execute_result"
    }
   ],
   "source": [
    "name[-1:2]"
   ]
  },
  {
   "cell_type": "code",
   "execution_count": 15,
   "id": "5037f4d5-25af-416d-b48d-3f2860ce98d0",
   "metadata": {},
   "outputs": [
    {
     "data": {
      "text/plain": [
       "''"
      ]
     },
     "execution_count": 15,
     "metadata": {},
     "output_type": "execute_result"
    }
   ],
   "source": [
    "name[5:-1:-1]"
   ]
  },
  {
   "cell_type": "code",
   "execution_count": 16,
   "id": "011aa2f4-3301-45f8-8c37-20fe2557da53",
   "metadata": {},
   "outputs": [
    {
     "data": {
      "text/plain": [
       "'no'"
      ]
     },
     "execution_count": 16,
     "metadata": {},
     "output_type": "execute_result"
    }
   ],
   "source": [
    "name[-1:-3:-1]"
   ]
  },
  {
   "cell_type": "code",
   "execution_count": 17,
   "id": "dad9a8f0-8502-4255-b66f-a1789bd1c9c6",
   "metadata": {},
   "outputs": [
    {
     "data": {
      "text/plain": [
       "'nohtyP'"
      ]
     },
     "execution_count": 17,
     "metadata": {},
     "output_type": "execute_result"
    }
   ],
   "source": [
    "name[::-1]"
   ]
  },
  {
   "cell_type": "code",
   "execution_count": 18,
   "id": "c387084e-e278-4f73-a080-b7bb89677335",
   "metadata": {},
   "outputs": [
    {
     "data": {
      "text/plain": [
       "'ython'"
      ]
     },
     "execution_count": 18,
     "metadata": {},
     "output_type": "execute_result"
    }
   ],
   "source": [
    "name[1:]"
   ]
  },
  {
   "cell_type": "code",
   "execution_count": 19,
   "id": "e18cb5e0-76f5-490b-bf11-548bb194e56b",
   "metadata": {},
   "outputs": [
    {
     "data": {
      "text/plain": [
       "'ytho'"
      ]
     },
     "execution_count": 19,
     "metadata": {},
     "output_type": "execute_result"
    }
   ],
   "source": [
    "name[1:-1]"
   ]
  },
  {
   "cell_type": "code",
   "execution_count": 20,
   "id": "fef1ad6f-42c4-42cf-b7a2-6c95ea542bb7",
   "metadata": {},
   "outputs": [
    {
     "data": {
      "text/plain": [
       "'t'"
      ]
     },
     "execution_count": 20,
     "metadata": {},
     "output_type": "execute_result"
    }
   ],
   "source": [
    "name[::-1][-3]"
   ]
  },
  {
   "cell_type": "code",
   "execution_count": 21,
   "id": "fd669ec1-cc4a-4a8b-8faa-89ba1fdeb45d",
   "metadata": {},
   "outputs": [
    {
     "data": {
      "text/plain": [
       "'I love Python'"
      ]
     },
     "execution_count": 21,
     "metadata": {},
     "output_type": "execute_result"
    }
   ],
   "source": [
    "text=\"I love Python\"\n",
    "text"
   ]
  },
  {
   "cell_type": "code",
   "execution_count": 22,
   "id": "e0a65b63-4562-4f7a-b59a-ad3c3196da61",
   "metadata": {},
   "outputs": [
    {
     "data": {
      "text/plain": [
       "'l'"
      ]
     },
     "execution_count": 22,
     "metadata": {},
     "output_type": "execute_result"
    }
   ],
   "source": [
    "text[-11]"
   ]
  },
  {
   "cell_type": "code",
   "execution_count": 24,
   "id": "fe554e56-39f3-4b2b-bb75-c2a9ae4592b6",
   "metadata": {},
   "outputs": [
    {
     "data": {
      "text/plain": [
       "'l'"
      ]
     },
     "execution_count": 24,
     "metadata": {},
     "output_type": "execute_result"
    }
   ],
   "source": [
    "text[2]"
   ]
  },
  {
   "cell_type": "code",
   "execution_count": 25,
   "id": "dee60263-bade-401d-b59d-4f610cf8c75a",
   "metadata": {},
   "outputs": [
    {
     "data": {
      "text/plain": [
       "'nohtyP evol I'"
      ]
     },
     "execution_count": 25,
     "metadata": {},
     "output_type": "execute_result"
    }
   ],
   "source": [
    "text[::-1]"
   ]
  },
  {
   "cell_type": "code",
   "execution_count": 26,
   "id": "52583358-fc25-45cd-a65c-80bf3a14993f",
   "metadata": {},
   "outputs": [
    {
     "data": {
      "text/plain": [
       "'evol'"
      ]
     },
     "execution_count": 26,
     "metadata": {},
     "output_type": "execute_result"
    }
   ],
   "source": [
    "text[::-1][7:11]"
   ]
  },
  {
   "cell_type": "code",
   "execution_count": 27,
   "id": "2ab8f783-0af3-4919-aad6-8bbd30de5093",
   "metadata": {},
   "outputs": [
    {
     "data": {
      "text/plain": [
       "'I love Pyspark'"
      ]
     },
     "execution_count": 27,
     "metadata": {},
     "output_type": "execute_result"
    }
   ],
   "source": [
    "text.replace(\"Python\",\"Pyspark\")"
   ]
  },
  {
   "cell_type": "code",
   "execution_count": 28,
   "id": "39290427-827d-4416-81f9-fa66bf262afa",
   "metadata": {},
   "outputs": [
    {
     "data": {
      "text/plain": [
       "'I LOVE PYTHON'"
      ]
     },
     "execution_count": 28,
     "metadata": {},
     "output_type": "execute_result"
    }
   ],
   "source": [
    "text.upper()"
   ]
  },
  {
   "cell_type": "code",
   "execution_count": 29,
   "id": "876d9975-82cb-4c74-836e-35e2d8e51029",
   "metadata": {},
   "outputs": [
    {
     "data": {
      "text/plain": [
       "'i love python'"
      ]
     },
     "execution_count": 29,
     "metadata": {},
     "output_type": "execute_result"
    }
   ],
   "source": [
    "text.lower()"
   ]
  },
  {
   "cell_type": "code",
   "execution_count": 30,
   "id": "bc0c56ad-3934-4e63-8f09-6e38c3936ff9",
   "metadata": {},
   "outputs": [
    {
     "data": {
      "text/plain": [
       "'I Love Python'"
      ]
     },
     "execution_count": 30,
     "metadata": {},
     "output_type": "execute_result"
    }
   ],
   "source": [
    "text.title()"
   ]
  },
  {
   "cell_type": "code",
   "execution_count": 31,
   "id": "ecb074df-978c-4d6f-a101-0753b12e1099",
   "metadata": {},
   "outputs": [
    {
     "data": {
      "text/plain": [
       "tuple"
      ]
     },
     "execution_count": 31,
     "metadata": {},
     "output_type": "execute_result"
    }
   ],
   "source": [
    "date=\"18\",\"09\",\"2024\"\n",
    "type(date)"
   ]
  },
  {
   "cell_type": "code",
   "execution_count": 33,
   "id": "f347b5e6-fd69-4113-a46b-1bf8927d65e1",
   "metadata": {},
   "outputs": [
    {
     "data": {
      "text/plain": [
       "'18/09/2024'"
      ]
     },
     "execution_count": 33,
     "metadata": {},
     "output_type": "execute_result"
    }
   ],
   "source": [
    "sep=\"/\"\n",
    "sep.join(date)"
   ]
  },
  {
   "cell_type": "code",
   "execution_count": null,
   "id": "0bdbad5b-d311-4867-ad81-71b7771f330b",
   "metadata": {},
   "outputs": [],
   "source": [
    "### List"
   ]
  },
  {
   "cell_type": "code",
   "execution_count": 37,
   "id": "9de682e5-956b-46cb-abab-2db7ccfc1bae",
   "metadata": {},
   "outputs": [
    {
     "data": {
      "text/plain": [
       "list"
      ]
     },
     "execution_count": 37,
     "metadata": {},
     "output_type": "execute_result"
    }
   ],
   "source": [
    "book_list=[25,\"Python\",\"R\",\"Data Science\",1234,10.2]\n",
    "type(book_list)"
   ]
  },
  {
   "cell_type": "code",
   "execution_count": 38,
   "id": "d8df3fdf-9fe5-4978-85c6-a3f19642aea3",
   "metadata": {},
   "outputs": [
    {
     "data": {
      "text/plain": [
       "25"
      ]
     },
     "execution_count": 38,
     "metadata": {},
     "output_type": "execute_result"
    }
   ],
   "source": [
    "book_list[0]"
   ]
  },
  {
   "cell_type": "code",
   "execution_count": 39,
   "id": "7756884d-4160-4a70-b7a6-7a473d5dde32",
   "metadata": {},
   "outputs": [
    {
     "data": {
      "text/plain": [
       "[25, 'Python', 'R']"
      ]
     },
     "execution_count": 39,
     "metadata": {},
     "output_type": "execute_result"
    }
   ],
   "source": [
    "book_list[0:3]"
   ]
  },
  {
   "cell_type": "code",
   "execution_count": 40,
   "id": "2e474cda-792a-4210-944d-83ddbf2f9548",
   "metadata": {},
   "outputs": [
    {
     "data": {
      "text/plain": [
       "[100, 'Python', 'R', 'Data Science', 1234, 10.2]"
      ]
     },
     "execution_count": 40,
     "metadata": {},
     "output_type": "execute_result"
    }
   ],
   "source": [
    "book_list[0]=100\n",
    "book_list"
   ]
  },
  {
   "cell_type": "code",
   "execution_count": 41,
   "id": "3d9a9fd8-c13f-44d9-b0f9-59e00d61ea7d",
   "metadata": {},
   "outputs": [
    {
     "data": {
      "text/plain": [
       "['Lord of the rings', 'Harry Potter']"
      ]
     },
     "execution_count": 41,
     "metadata": {},
     "output_type": "execute_result"
    }
   ],
   "source": [
    "novels=[\"Lord of the rings\",\"Harry Potter\"]\n",
    "novels"
   ]
  },
  {
   "cell_type": "code",
   "execution_count": 56,
   "id": "e60c3fc8-691c-4c99-88a5-4403a9de1d82",
   "metadata": {},
   "outputs": [
    {
     "data": {
      "text/plain": [
       "['R',\n",
       " 'Python',\n",
       " 'Pyspark',\n",
       " 'Pyspark',\n",
       " 'Data Science',\n",
       " 'Lord of the rings',\n",
       " 'Harry Potter']"
      ]
     },
     "execution_count": 56,
     "metadata": {},
     "output_type": "execute_result"
    }
   ],
   "source": [
    "library=book_list+novels\n",
    "library"
   ]
  },
  {
   "cell_type": "code",
   "execution_count": 43,
   "id": "2717ef41-8beb-494d-a8ae-6f60dcf509be",
   "metadata": {},
   "outputs": [
    {
     "data": {
      "text/plain": [
       "list"
      ]
     },
     "execution_count": 43,
     "metadata": {},
     "output_type": "execute_result"
    }
   ],
   "source": [
    "type(library)"
   ]
  },
  {
   "cell_type": "code",
   "execution_count": 45,
   "id": "9083b0c5-5b5e-4bee-96b4-436e8356f2f1",
   "metadata": {},
   "outputs": [],
   "source": [
    "book_list.append(\"Pyspark\")"
   ]
  },
  {
   "cell_type": "code",
   "execution_count": 46,
   "id": "06c1269b-a84d-4365-89e6-2cab7eb43956",
   "metadata": {},
   "outputs": [
    {
     "data": {
      "text/plain": [
       "[100, 'Python', 'R', 'Data Science', 1234, 10.2, 'Pyspark']"
      ]
     },
     "execution_count": 46,
     "metadata": {},
     "output_type": "execute_result"
    }
   ],
   "source": [
    "book_list"
   ]
  },
  {
   "cell_type": "code",
   "execution_count": 47,
   "id": "1ba9cc2f-5ddf-470a-87c4-c625d72ed7d0",
   "metadata": {},
   "outputs": [],
   "source": [
    "book_list.insert(2,\"Pyspark\")"
   ]
  },
  {
   "cell_type": "code",
   "execution_count": 48,
   "id": "92159af1-72a2-4245-96c7-03b6b60eafb9",
   "metadata": {},
   "outputs": [
    {
     "data": {
      "text/plain": [
       "[100, 'Python', 'Pyspark', 'R', 'Data Science', 1234, 10.2, 'Pyspark']"
      ]
     },
     "execution_count": 48,
     "metadata": {},
     "output_type": "execute_result"
    }
   ],
   "source": [
    "book_list"
   ]
  },
  {
   "cell_type": "code",
   "execution_count": 49,
   "id": "cd4797fa-7aee-4104-a92b-4fb827448d39",
   "metadata": {},
   "outputs": [],
   "source": [
    "book_list.remove(100)"
   ]
  },
  {
   "cell_type": "code",
   "execution_count": 50,
   "id": "745b80d8-5b60-4d6c-998a-a642418e81c9",
   "metadata": {},
   "outputs": [
    {
     "data": {
      "text/plain": [
       "['Python', 'Pyspark', 'R', 'Data Science', 1234, 10.2, 'Pyspark']"
      ]
     },
     "execution_count": 50,
     "metadata": {},
     "output_type": "execute_result"
    }
   ],
   "source": [
    "book_list"
   ]
  },
  {
   "cell_type": "code",
   "execution_count": 51,
   "id": "05cf6d96-cc77-4aa4-8fd8-86bc8b7b5774",
   "metadata": {},
   "outputs": [],
   "source": [
    "book_list.remove(1234)\n",
    "book_list.remove(10.2)"
   ]
  },
  {
   "cell_type": "code",
   "execution_count": 52,
   "id": "0aaa0682-5d2b-46cc-9e5c-3e3a3ca0a2b1",
   "metadata": {},
   "outputs": [
    {
     "data": {
      "text/plain": [
       "['Python', 'Pyspark', 'R', 'Data Science', 'Pyspark']"
      ]
     },
     "execution_count": 52,
     "metadata": {},
     "output_type": "execute_result"
    }
   ],
   "source": [
    "book_list"
   ]
  },
  {
   "cell_type": "code",
   "execution_count": 53,
   "id": "94c37a87-ff87-410f-8117-41375455187e",
   "metadata": {},
   "outputs": [],
   "source": [
    "book_list.sort()"
   ]
  },
  {
   "cell_type": "code",
   "execution_count": 54,
   "id": "c7d6fe02-15b3-40a2-919e-8f23eea089f0",
   "metadata": {},
   "outputs": [
    {
     "data": {
      "text/plain": [
       "['Data Science', 'Pyspark', 'Pyspark', 'Python', 'R']"
      ]
     },
     "execution_count": 54,
     "metadata": {},
     "output_type": "execute_result"
    }
   ],
   "source": [
    "book_list"
   ]
  },
  {
   "cell_type": "code",
   "execution_count": 55,
   "id": "d0b9b0f3-c441-4499-8761-20983a8727dc",
   "metadata": {},
   "outputs": [],
   "source": [
    "book_list.sort(reverse=True)"
   ]
  },
  {
   "cell_type": "code",
   "execution_count": null,
   "id": "4c2f7778-4d64-4ad4-bb9f-3d0a6661f21c",
   "metadata": {},
   "outputs": [],
   "source": []
  }
 ],
 "metadata": {
  "kernelspec": {
   "display_name": "Python 3 (ipykernel)",
   "language": "python",
   "name": "python3"
  },
  "language_info": {
   "codemirror_mode": {
    "name": "ipython",
    "version": 3
   },
   "file_extension": ".py",
   "mimetype": "text/x-python",
   "name": "python",
   "nbconvert_exporter": "python",
   "pygments_lexer": "ipython3",
   "version": "3.11.7"
  }
 },
 "nbformat": 4,
 "nbformat_minor": 5
}
