{
 "cells": [
  {
   "cell_type": "markdown",
   "id": "a5bdcdc6-a0f7-4c67-9577-bbee158bc987",
   "metadata": {},
   "source": [
    "### Operators in Python"
   ]
  },
  {
   "cell_type": "markdown",
   "id": "e1fddcdf-99e9-4686-b276-c3e9c1529a36",
   "metadata": {},
   "source": [
    "#### Arithmetic Operators"
   ]
  },
  {
   "cell_type": "code",
   "execution_count": 1,
   "id": "dd7e940c-e453-4633-97fa-686391c0d877",
   "metadata": {},
   "outputs": [
    {
     "data": {
      "text/plain": [
       "110000"
      ]
     },
     "execution_count": 1,
     "metadata": {},
     "output_type": "execute_result"
    }
   ],
   "source": [
    "income=100000\n",
    "incentives=10000\n",
    "total_income=income+incentives\n",
    "total_income"
   ]
  },
  {
   "cell_type": "code",
   "execution_count": 2,
   "id": "b81fed47-7bcb-4c57-bf89-3534ba4ca18b",
   "metadata": {},
   "outputs": [
    {
     "data": {
      "text/plain": [
       "110000.0"
      ]
     },
     "execution_count": 2,
     "metadata": {},
     "output_type": "execute_result"
    }
   ],
   "source": [
    "income=100000\n",
    "incentives=10000.00\n",
    "total_income=income+incentives\n",
    "total_income"
   ]
  },
  {
   "cell_type": "code",
   "execution_count": 4,
   "id": "fd596d59-7770-49be-bd1f-c01d7ad3775c",
   "metadata": {},
   "outputs": [
    {
     "data": {
      "text/plain": [
       "'Prema Latha'"
      ]
     },
     "execution_count": 4,
     "metadata": {},
     "output_type": "execute_result"
    }
   ],
   "source": [
    "first_name=\"Prema\"\n",
    "second_name=\"Latha\"\n",
    "full_name=first_name+\" \"+second_name\n",
    "full_name"
   ]
  },
  {
   "cell_type": "code",
   "execution_count": 5,
   "id": "6ef5587a-4079-4066-a385-546bf948f363",
   "metadata": {},
   "outputs": [
    {
     "ename": "TypeError",
     "evalue": "can only concatenate str (not \"int\") to str",
     "output_type": "error",
     "traceback": [
      "\u001b[1;31m---------------------------------------------------------------------------\u001b[0m",
      "\u001b[1;31mTypeError\u001b[0m                                 Traceback (most recent call last)",
      "Cell \u001b[1;32mIn[5], line 3\u001b[0m\n\u001b[0;32m      1\u001b[0m text\u001b[38;5;241m=\u001b[39m\u001b[38;5;124m\"\u001b[39m\u001b[38;5;124mAge is\u001b[39m\u001b[38;5;124m\"\u001b[39m\n\u001b[0;32m      2\u001b[0m age\u001b[38;5;241m=\u001b[39m\u001b[38;5;241m22\u001b[39m\n\u001b[1;32m----> 3\u001b[0m combine\u001b[38;5;241m=\u001b[39mtext\u001b[38;5;241m+\u001b[39mage\n\u001b[0;32m      4\u001b[0m combine\n",
      "\u001b[1;31mTypeError\u001b[0m: can only concatenate str (not \"int\") to str"
     ]
    }
   ],
   "source": [
    "text=\"Age is\"\n",
    "age=22\n",
    "combine=text+age\n",
    "combine"
   ]
  },
  {
   "cell_type": "code",
   "execution_count": 7,
   "id": "75d75a57-6416-4bf3-af43-1f28632b0439",
   "metadata": {},
   "outputs": [
    {
     "data": {
      "text/plain": [
       "'Age is 22'"
      ]
     },
     "execution_count": 7,
     "metadata": {},
     "output_type": "execute_result"
    }
   ],
   "source": [
    "text=\"Age is\"\n",
    "age=\"22\"\n",
    "combine=text+\" \"+age\n",
    "combine"
   ]
  },
  {
   "cell_type": "code",
   "execution_count": 8,
   "id": "adf18cb3-fdab-4b7e-a542-2dd0e55b48ef",
   "metadata": {},
   "outputs": [
    {
     "data": {
      "text/plain": [
       "99000"
      ]
     },
     "execution_count": 8,
     "metadata": {},
     "output_type": "execute_result"
    }
   ],
   "source": [
    "income=100000\n",
    "tax=1000\n",
    "total_income=income-tax\n",
    "total_income"
   ]
  },
  {
   "cell_type": "code",
   "execution_count": 9,
   "id": "f0451a95-8afb-44e2-ac5c-413578c7253d",
   "metadata": {},
   "outputs": [
    {
     "data": {
      "text/plain": [
       "99000.0"
      ]
     },
     "execution_count": 9,
     "metadata": {},
     "output_type": "execute_result"
    }
   ],
   "source": [
    "income=100000\n",
    "tax=1000.00\n",
    "total_income=income-tax\n",
    "total_income"
   ]
  },
  {
   "cell_type": "code",
   "execution_count": 10,
   "id": "0f69f382-0708-48fc-a282-c9eff83f6871",
   "metadata": {},
   "outputs": [
    {
     "ename": "TypeError",
     "evalue": "unsupported operand type(s) for -: 'str' and 'str'",
     "output_type": "error",
     "traceback": [
      "\u001b[1;31m---------------------------------------------------------------------------\u001b[0m",
      "\u001b[1;31mTypeError\u001b[0m                                 Traceback (most recent call last)",
      "Cell \u001b[1;32mIn[10], line 3\u001b[0m\n\u001b[0;32m      1\u001b[0m first_name\u001b[38;5;241m=\u001b[39m\u001b[38;5;124m\"\u001b[39m\u001b[38;5;124mPrema\u001b[39m\u001b[38;5;124m\"\u001b[39m\n\u001b[0;32m      2\u001b[0m second_name\u001b[38;5;241m=\u001b[39m\u001b[38;5;124m\"\u001b[39m\u001b[38;5;124mLatha\u001b[39m\u001b[38;5;124m\"\u001b[39m\n\u001b[1;32m----> 3\u001b[0m full_name\u001b[38;5;241m=\u001b[39mfirst_name\u001b[38;5;241m-\u001b[39msecond_name\n\u001b[0;32m      4\u001b[0m full_name\n",
      "\u001b[1;31mTypeError\u001b[0m: unsupported operand type(s) for -: 'str' and 'str'"
     ]
    }
   ],
   "source": [
    "first_name=\"Prema\"\n",
    "second_name=\"Latha\"\n",
    "full_name=first_name-second_name\n",
    "full_name"
   ]
  },
  {
   "cell_type": "code",
   "execution_count": 11,
   "id": "c8f86cda-6174-43b7-a126-3d9ff091944d",
   "metadata": {},
   "outputs": [
    {
     "data": {
      "text/plain": [
       "1000"
      ]
     },
     "execution_count": 11,
     "metadata": {},
     "output_type": "execute_result"
    }
   ],
   "source": [
    "unit_price=20\n",
    "total_units_purchased=50\n",
    "total_amount=unit_price*total_units_purchased\n",
    "total_amount"
   ]
  },
  {
   "cell_type": "code",
   "execution_count": 12,
   "id": "906a58ae-4412-416f-a197-ef114ab778f7",
   "metadata": {},
   "outputs": [
    {
     "data": {
      "text/plain": [
       "1010.0"
      ]
     },
     "execution_count": 12,
     "metadata": {},
     "output_type": "execute_result"
    }
   ],
   "source": [
    "unit_price=20.2\n",
    "total_units_purchased=50\n",
    "total_amount=unit_price*total_units_purchased\n",
    "total_amount"
   ]
  },
  {
   "cell_type": "code",
   "execution_count": 14,
   "id": "a9b872bb-3d96-439f-bf38-067050788961",
   "metadata": {},
   "outputs": [
    {
     "data": {
      "text/plain": [
       "'India India India '"
      ]
     },
     "execution_count": 14,
     "metadata": {},
     "output_type": "execute_result"
    }
   ],
   "source": [
    "value=\"India \"\n",
    "count=3\n",
    "result=value*count\n",
    "result"
   ]
  },
  {
   "cell_type": "code",
   "execution_count": 15,
   "id": "248780ca-3005-411a-86cf-929a9b4da1bc",
   "metadata": {},
   "outputs": [
    {
     "ename": "TypeError",
     "evalue": "can't multiply sequence by non-int of type 'str'",
     "output_type": "error",
     "traceback": [
      "\u001b[1;31m---------------------------------------------------------------------------\u001b[0m",
      "\u001b[1;31mTypeError\u001b[0m                                 Traceback (most recent call last)",
      "Cell \u001b[1;32mIn[15], line 3\u001b[0m\n\u001b[0;32m      1\u001b[0m value\u001b[38;5;241m=\u001b[39m\u001b[38;5;124m\"\u001b[39m\u001b[38;5;124mIndia \u001b[39m\u001b[38;5;124m\"\u001b[39m\n\u001b[0;32m      2\u001b[0m count\u001b[38;5;241m=\u001b[39m\u001b[38;5;124m\"\u001b[39m\u001b[38;5;124m3\u001b[39m\u001b[38;5;124m\"\u001b[39m\n\u001b[1;32m----> 3\u001b[0m result\u001b[38;5;241m=\u001b[39mvalue\u001b[38;5;241m*\u001b[39mcount\n\u001b[0;32m      4\u001b[0m result\n",
      "\u001b[1;31mTypeError\u001b[0m: can't multiply sequence by non-int of type 'str'"
     ]
    }
   ],
   "source": [
    "value=\"India \"\n",
    "count=\"3\"\n",
    "result=value*count\n",
    "result"
   ]
  },
  {
   "cell_type": "code",
   "execution_count": 16,
   "id": "a3653f43-bd87-4a06-9973-9d2bc7c81221",
   "metadata": {},
   "outputs": [
    {
     "data": {
      "text/plain": [
       "200.0"
      ]
     },
     "execution_count": 16,
     "metadata": {},
     "output_type": "execute_result"
    }
   ],
   "source": [
    "total_cost=2000\n",
    "quantity=10\n",
    "price_per_unit=total_cost/quantity\n",
    "price_per_unit"
   ]
  },
  {
   "cell_type": "code",
   "execution_count": 17,
   "id": "12a5340d-1fc1-4367-9d8a-41c169b4b1c8",
   "metadata": {},
   "outputs": [
    {
     "data": {
      "text/plain": [
       "200.05"
      ]
     },
     "execution_count": 17,
     "metadata": {},
     "output_type": "execute_result"
    }
   ],
   "source": [
    "total_cost=2000.50\n",
    "quantity=10\n",
    "price_per_unit=total_cost/quantity\n",
    "price_per_unit"
   ]
  },
  {
   "cell_type": "code",
   "execution_count": 18,
   "id": "14d315ac-b5ce-4441-b24f-9ac6f2b4bbaf",
   "metadata": {},
   "outputs": [
    {
     "ename": "TypeError",
     "evalue": "unsupported operand type(s) for /: 'str' and 'int'",
     "output_type": "error",
     "traceback": [
      "\u001b[1;31m---------------------------------------------------------------------------\u001b[0m",
      "\u001b[1;31mTypeError\u001b[0m                                 Traceback (most recent call last)",
      "Cell \u001b[1;32mIn[18], line 3\u001b[0m\n\u001b[0;32m      1\u001b[0m value\u001b[38;5;241m=\u001b[39m\u001b[38;5;124m\"\u001b[39m\u001b[38;5;124mIndia \u001b[39m\u001b[38;5;124m\"\u001b[39m\n\u001b[0;32m      2\u001b[0m count\u001b[38;5;241m=\u001b[39m\u001b[38;5;241m3\u001b[39m\n\u001b[1;32m----> 3\u001b[0m result\u001b[38;5;241m=\u001b[39mvalue\u001b[38;5;241m/\u001b[39mcount\n\u001b[0;32m      4\u001b[0m result\n",
      "\u001b[1;31mTypeError\u001b[0m: unsupported operand type(s) for /: 'str' and 'int'"
     ]
    }
   ],
   "source": [
    "value=\"India \"\n",
    "count=3\n",
    "result=value/count\n",
    "result"
   ]
  },
  {
   "cell_type": "code",
   "execution_count": 19,
   "id": "5c4484d8-64da-4c65-a1cc-574388012260",
   "metadata": {},
   "outputs": [
    {
     "ename": "TypeError",
     "evalue": "unsupported operand type(s) for /: 'str' and 'str'",
     "output_type": "error",
     "traceback": [
      "\u001b[1;31m---------------------------------------------------------------------------\u001b[0m",
      "\u001b[1;31mTypeError\u001b[0m                                 Traceback (most recent call last)",
      "Cell \u001b[1;32mIn[19], line 3\u001b[0m\n\u001b[0;32m      1\u001b[0m value\u001b[38;5;241m=\u001b[39m\u001b[38;5;124m\"\u001b[39m\u001b[38;5;124mIndia \u001b[39m\u001b[38;5;124m\"\u001b[39m\n\u001b[0;32m      2\u001b[0m count\u001b[38;5;241m=\u001b[39m\u001b[38;5;124m\"\u001b[39m\u001b[38;5;124m3\u001b[39m\u001b[38;5;124m\"\u001b[39m\n\u001b[1;32m----> 3\u001b[0m result\u001b[38;5;241m=\u001b[39mvalue\u001b[38;5;241m/\u001b[39mcount\n\u001b[0;32m      4\u001b[0m result\n",
      "\u001b[1;31mTypeError\u001b[0m: unsupported operand type(s) for /: 'str' and 'str'"
     ]
    }
   ],
   "source": [
    "value=\"India \"\n",
    "count=\"3\"\n",
    "result=value/count\n",
    "result"
   ]
  },
  {
   "cell_type": "code",
   "execution_count": 20,
   "id": "3bd9d795-146a-4e0d-9aef-881eb7f3585b",
   "metadata": {},
   "outputs": [
    {
     "data": {
      "text/plain": [
       "0"
      ]
     },
     "execution_count": 20,
     "metadata": {},
     "output_type": "execute_result"
    }
   ],
   "source": [
    "#### Modulus\n",
    "a=10\n",
    "b=5\n",
    "c=a%b\n",
    "c"
   ]
  },
  {
   "cell_type": "code",
   "execution_count": 21,
   "id": "1e09d931-515a-4728-a799-9fe9f8c5bd48",
   "metadata": {},
   "outputs": [
    {
     "data": {
      "text/plain": [
       "10"
      ]
     },
     "execution_count": 21,
     "metadata": {},
     "output_type": "execute_result"
    }
   ],
   "source": [
    "a=10\n",
    "b=50\n",
    "c=a%b\n",
    "c"
   ]
  },
  {
   "cell_type": "code",
   "execution_count": 26,
   "id": "856a0d80-4174-44a6-a259-57e5f3462300",
   "metadata": {},
   "outputs": [
    {
     "data": {
      "text/plain": [
       "10"
      ]
     },
     "execution_count": 26,
     "metadata": {},
     "output_type": "execute_result"
    }
   ],
   "source": [
    "a=10\n",
    "b=11\n",
    "c=a%b\n",
    "c"
   ]
  },
  {
   "cell_type": "code",
   "execution_count": 30,
   "id": "a70f0059-f55d-47e9-8d20-3fcaa764b4c5",
   "metadata": {},
   "outputs": [
    {
     "data": {
      "text/plain": [
       "499"
      ]
     },
     "execution_count": 30,
     "metadata": {},
     "output_type": "execute_result"
    }
   ],
   "source": [
    "a=499\n",
    "b=500\n",
    "c=a%b\n",
    "c"
   ]
  },
  {
   "cell_type": "code",
   "execution_count": 22,
   "id": "e0911557-6997-4f95-a239-af45b5d32e08",
   "metadata": {},
   "outputs": [
    {
     "data": {
      "text/plain": [
       "0"
      ]
     },
     "execution_count": 22,
     "metadata": {},
     "output_type": "execute_result"
    }
   ],
   "source": [
    "a=25\n",
    "b=5\n",
    "c=a%b\n",
    "c"
   ]
  },
  {
   "cell_type": "code",
   "execution_count": 23,
   "id": "e4dcaad2-be23-4164-970e-c7668ec2bb33",
   "metadata": {},
   "outputs": [
    {
     "data": {
      "text/plain": [
       "1"
      ]
     },
     "execution_count": 23,
     "metadata": {},
     "output_type": "execute_result"
    }
   ],
   "source": [
    "a=26\n",
    "b=5\n",
    "c=a%b\n",
    "c"
   ]
  },
  {
   "cell_type": "code",
   "execution_count": 24,
   "id": "c5fbe87c-965a-4b10-a998-e13fd4571f2b",
   "metadata": {},
   "outputs": [
    {
     "data": {
      "text/plain": [
       "2"
      ]
     },
     "execution_count": 24,
     "metadata": {},
     "output_type": "execute_result"
    }
   ],
   "source": [
    "a=27\n",
    "b=5\n",
    "c=a%b\n",
    "c"
   ]
  },
  {
   "cell_type": "code",
   "execution_count": 25,
   "id": "ff93020b-1336-4a1e-a6d5-7bbd896daa0e",
   "metadata": {},
   "outputs": [
    {
     "data": {
      "text/plain": [
       "3"
      ]
     },
     "execution_count": 25,
     "metadata": {},
     "output_type": "execute_result"
    }
   ],
   "source": [
    "a=28\n",
    "b=5\n",
    "c=a%b\n",
    "c"
   ]
  },
  {
   "cell_type": "code",
   "execution_count": 31,
   "id": "ecd26c40-ded1-4201-831b-023422dbf014",
   "metadata": {},
   "outputs": [
    {
     "data": {
      "text/plain": [
       "9"
      ]
     },
     "execution_count": 31,
     "metadata": {},
     "output_type": "execute_result"
    }
   ],
   "source": [
    "total_cost=2700\n",
    "quantity=23\n",
    "price_per_unit=total_cost%quantity\n",
    "price_per_unit"
   ]
  },
  {
   "cell_type": "code",
   "execution_count": 32,
   "id": "9beef700-a665-433c-b319-177f4f71c056",
   "metadata": {},
   "outputs": [
    {
     "data": {
      "text/plain": [
       "9.5"
      ]
     },
     "execution_count": 32,
     "metadata": {},
     "output_type": "execute_result"
    }
   ],
   "source": [
    "total_cost=2700.5\n",
    "quantity=23\n",
    "price_per_unit=total_cost%quantity\n",
    "price_per_unit"
   ]
  },
  {
   "cell_type": "code",
   "execution_count": 33,
   "id": "9121529f-db05-46e0-bb5e-1b4e85754865",
   "metadata": {},
   "outputs": [
    {
     "data": {
      "text/plain": [
       "6"
      ]
     },
     "execution_count": 33,
     "metadata": {},
     "output_type": "execute_result"
    }
   ],
   "source": [
    "a=30\n",
    "b=5\n",
    "c=a//b\n",
    "c"
   ]
  },
  {
   "cell_type": "code",
   "execution_count": 34,
   "id": "e7f7fd5f-9727-44ac-8e74-299fe6b7712a",
   "metadata": {},
   "outputs": [
    {
     "data": {
      "text/plain": [
       "0"
      ]
     },
     "execution_count": 34,
     "metadata": {},
     "output_type": "execute_result"
    }
   ],
   "source": [
    "a=5\n",
    "b=50\n",
    "c=a//b\n",
    "c"
   ]
  },
  {
   "cell_type": "code",
   "execution_count": 35,
   "id": "1db87eae-0cca-444f-b1a7-02d05d9ed42e",
   "metadata": {},
   "outputs": [
    {
     "data": {
      "text/plain": [
       "7"
      ]
     },
     "execution_count": 35,
     "metadata": {},
     "output_type": "execute_result"
    }
   ],
   "source": [
    "a=28\n",
    "b=4\n",
    "c=a//b\n",
    "c"
   ]
  },
  {
   "cell_type": "code",
   "execution_count": 36,
   "id": "b4200f0c-af92-4e82-95a0-0974fe6b827b",
   "metadata": {},
   "outputs": [
    {
     "data": {
      "text/plain": [
       "0"
      ]
     },
     "execution_count": 36,
     "metadata": {},
     "output_type": "execute_result"
    }
   ],
   "source": [
    "a=27\n",
    "b=40\n",
    "c=a//b\n",
    "c"
   ]
  },
  {
   "cell_type": "code",
   "execution_count": 37,
   "id": "5e5927ea-69d3-4e74-96a3-b2ab54e8eb85",
   "metadata": {},
   "outputs": [
    {
     "data": {
      "text/plain": [
       "400"
      ]
     },
     "execution_count": 37,
     "metadata": {},
     "output_type": "execute_result"
    }
   ],
   "source": [
    "side=20\n",
    "area=side**2\n",
    "area"
   ]
  },
  {
   "cell_type": "code",
   "execution_count": 1,
   "id": "665cb571-1171-4399-adeb-96b11b0e4b1a",
   "metadata": {},
   "outputs": [
    {
     "ename": "NameError",
     "evalue": "name 'a' is not defined",
     "output_type": "error",
     "traceback": [
      "\u001b[1;31m---------------------------------------------------------------------------\u001b[0m",
      "\u001b[1;31mNameError\u001b[0m                                 Traceback (most recent call last)",
      "Cell \u001b[1;32mIn[1], line 1\u001b[0m\n\u001b[1;32m----> 1\u001b[0m cube_side\u001b[38;5;241m=\u001b[39ma\n\u001b[0;32m      2\u001b[0m Volume\u001b[38;5;241m=\u001b[39mcube_side\u001b[38;5;241m*\u001b[39m\u001b[38;5;241m*\u001b[39m\u001b[38;5;241m3\u001b[39m\n\u001b[0;32m      3\u001b[0m Volume\n",
      "\u001b[1;31mNameError\u001b[0m: name 'a' is not defined"
     ]
    }
   ],
   "source": [
    "cube_side=a\n",
    "Volume=cube_side**3\n",
    "Volume"
   ]
  },
  {
   "cell_type": "code",
   "execution_count": 2,
   "id": "63265b4d-3033-487c-9bee-3faf020d364b",
   "metadata": {},
   "outputs": [
    {
     "name": "stdout",
     "output_type": "stream",
     "text": [
      "odd\n"
     ]
    }
   ],
   "source": [
    "num=7\n",
    "\n",
    "if num % 2==0:\n",
    "    print(\"even\")\n",
    "else:\n",
    "    print(\"odd\")"
   ]
  },
  {
   "cell_type": "code",
   "execution_count": 3,
   "id": "11156b0b-d1ed-45e1-ac79-ece452ad9243",
   "metadata": {},
   "outputs": [],
   "source": [
    "seconds=375\n",
    "minutes=375//60"
   ]
  },
  {
   "cell_type": "code",
   "execution_count": 4,
   "id": "f1e499b1-8713-4506-9436-462a9626395c",
   "metadata": {},
   "outputs": [
    {
     "data": {
      "text/plain": [
       "6"
      ]
     },
     "execution_count": 4,
     "metadata": {},
     "output_type": "execute_result"
    }
   ],
   "source": [
    "minutes"
   ]
  },
  {
   "cell_type": "code",
   "execution_count": 5,
   "id": "fd403f72-f8e4-469a-9c71-3bf537c4a5f3",
   "metadata": {},
   "outputs": [
    {
     "data": {
      "text/plain": [
       "6.25"
      ]
     },
     "execution_count": 5,
     "metadata": {},
     "output_type": "execute_result"
    }
   ],
   "source": [
    "minutes_deci=375/60\n",
    "minutes_deci"
   ]
  },
  {
   "cell_type": "code",
   "execution_count": 6,
   "id": "e3a77e38-4a6c-4e23-b157-ecf9a7beeeea",
   "metadata": {},
   "outputs": [],
   "source": [
    "### Relational operators\n",
    "age1=28\n",
    "age2=35"
   ]
  },
  {
   "cell_type": "code",
   "execution_count": 7,
   "id": "af583790-2df9-4d71-9ed0-715d77c53810",
   "metadata": {},
   "outputs": [
    {
     "data": {
      "text/plain": [
       "False"
      ]
     },
     "execution_count": 7,
     "metadata": {},
     "output_type": "execute_result"
    }
   ],
   "source": [
    "age1==age2"
   ]
  },
  {
   "cell_type": "code",
   "execution_count": 8,
   "id": "32e0cb9e-c708-47f0-9c4b-7800b4d1b053",
   "metadata": {},
   "outputs": [
    {
     "data": {
      "text/plain": [
       "True"
      ]
     },
     "execution_count": 8,
     "metadata": {},
     "output_type": "execute_result"
    }
   ],
   "source": [
    "age1!=age2"
   ]
  },
  {
   "cell_type": "code",
   "execution_count": 9,
   "id": "a8f0f971-84ca-4519-b8a5-5c095f836b24",
   "metadata": {},
   "outputs": [
    {
     "data": {
      "text/plain": [
       "False"
      ]
     },
     "execution_count": 9,
     "metadata": {},
     "output_type": "execute_result"
    }
   ],
   "source": [
    "age1>age2"
   ]
  },
  {
   "cell_type": "code",
   "execution_count": 10,
   "id": "e50b70e0-19fd-4d94-9b07-7d36544f5b13",
   "metadata": {},
   "outputs": [
    {
     "data": {
      "text/plain": [
       "True"
      ]
     },
     "execution_count": 10,
     "metadata": {},
     "output_type": "execute_result"
    }
   ],
   "source": [
    "age1<age2"
   ]
  },
  {
   "cell_type": "code",
   "execution_count": 11,
   "id": "e0eaed84-c596-4d9f-b80b-35279894c0ec",
   "metadata": {},
   "outputs": [
    {
     "data": {
      "text/plain": [
       "False"
      ]
     },
     "execution_count": 11,
     "metadata": {},
     "output_type": "execute_result"
    }
   ],
   "source": [
    "age1>=age2"
   ]
  },
  {
   "cell_type": "code",
   "execution_count": 12,
   "id": "9b6ac9fb-15fc-4773-b0f7-c31d29f7d989",
   "metadata": {},
   "outputs": [],
   "source": [
    "#### logical Operators\n",
    "is_student=True\n",
    "in_college=True\n",
    "in_school=False"
   ]
  },
  {
   "cell_type": "code",
   "execution_count": 13,
   "id": "733c1415-f24e-4f15-b2e9-0ff6aa87a2c3",
   "metadata": {},
   "outputs": [
    {
     "data": {
      "text/plain": [
       "True"
      ]
     },
     "execution_count": 13,
     "metadata": {},
     "output_type": "execute_result"
    }
   ],
   "source": [
    "is_student and in_college"
   ]
  },
  {
   "cell_type": "code",
   "execution_count": 14,
   "id": "3af7dd64-8eea-4ce1-9d2a-080568e9ad59",
   "metadata": {},
   "outputs": [
    {
     "data": {
      "text/plain": [
       "False"
      ]
     },
     "execution_count": 14,
     "metadata": {},
     "output_type": "execute_result"
    }
   ],
   "source": [
    "is_student and in_school"
   ]
  },
  {
   "cell_type": "code",
   "execution_count": 15,
   "id": "3d603d54-db85-4d3b-b342-0d46ccd9523b",
   "metadata": {},
   "outputs": [
    {
     "data": {
      "text/plain": [
       "True"
      ]
     },
     "execution_count": 15,
     "metadata": {},
     "output_type": "execute_result"
    }
   ],
   "source": [
    "is_student or in_college"
   ]
  },
  {
   "cell_type": "code",
   "execution_count": 16,
   "id": "513e0439-6517-41cd-a8e7-caaeaffc62d7",
   "metadata": {},
   "outputs": [
    {
     "data": {
      "text/plain": [
       "True"
      ]
     },
     "execution_count": 16,
     "metadata": {},
     "output_type": "execute_result"
    }
   ],
   "source": [
    "is_student or in_school"
   ]
  },
  {
   "cell_type": "code",
   "execution_count": 17,
   "id": "b78c0022-1863-4cd0-81d7-1b0b689b5904",
   "metadata": {},
   "outputs": [
    {
     "data": {
      "text/plain": [
       "False"
      ]
     },
     "execution_count": 17,
     "metadata": {},
     "output_type": "execute_result"
    }
   ],
   "source": [
    "not(is_student)"
   ]
  },
  {
   "cell_type": "code",
   "execution_count": 18,
   "id": "83d4d788-d7d6-4554-a77e-c23b5a04df28",
   "metadata": {},
   "outputs": [
    {
     "data": {
      "text/plain": [
       "True"
      ]
     },
     "execution_count": 18,
     "metadata": {},
     "output_type": "execute_result"
    }
   ],
   "source": [
    "not(in_school)"
   ]
  },
  {
   "cell_type": "code",
   "execution_count": 19,
   "id": "1a494520-99fc-44cf-9152-2f5b2956fc95",
   "metadata": {},
   "outputs": [
    {
     "name": "stdout",
     "output_type": "stream",
     "text": [
      "True\n"
     ]
    }
   ],
   "source": [
    "#### Membership operators\n",
    "vowels=\"aeiou\"\n",
    "print(\"u\" in vowels)"
   ]
  },
  {
   "cell_type": "code",
   "execution_count": 20,
   "id": "45432061-e5db-4354-942d-6468eb58561d",
   "metadata": {},
   "outputs": [
    {
     "name": "stdout",
     "output_type": "stream",
     "text": [
      "False\n"
     ]
    }
   ],
   "source": [
    "print(\"l\" in vowels)"
   ]
  },
  {
   "cell_type": "code",
   "execution_count": 21,
   "id": "2ad9c9e3-4ce7-4918-b6e6-ebf65bdb74c2",
   "metadata": {},
   "outputs": [
    {
     "name": "stdout",
     "output_type": "stream",
     "text": [
      "False\n"
     ]
    }
   ],
   "source": [
    "vowels=\"aeiou\"\n",
    "print(\"u\" not in vowels)"
   ]
  },
  {
   "cell_type": "code",
   "execution_count": 22,
   "id": "a4470207-4b41-4bf9-8b69-0e718eb896ef",
   "metadata": {},
   "outputs": [
    {
     "name": "stdout",
     "output_type": "stream",
     "text": [
      "True\n"
     ]
    }
   ],
   "source": [
    "print(\"l\" not in vowels)"
   ]
  },
  {
   "cell_type": "markdown",
   "id": "0e69b654-b4cf-4e76-a8cb-ecee7612092f",
   "metadata": {},
   "source": [
    "### Collections-> List\n"
   ]
  },
  {
   "cell_type": "markdown",
   "id": "43956821-8570-40c2-b3a3-3c0ba657cdcb",
   "metadata": {},
   "source": [
    "##### Heterogenous-> str,int,float all data types\n",
    "##### Mutable->can change the elements after creating it\n",
    "##### Square Brackets\n",
    "##### Retrieve the elements using index"
   ]
  },
  {
   "cell_type": "code",
   "execution_count": 23,
   "id": "c1b52ca0-3a3d-4e85-be8e-122f549dc551",
   "metadata": {},
   "outputs": [],
   "source": [
    "nums=[25,10,35,15.5,21,25]"
   ]
  },
  {
   "cell_type": "code",
   "execution_count": 24,
   "id": "ad221adf-5717-40b8-bd86-a191649965e8",
   "metadata": {},
   "outputs": [
    {
     "data": {
      "text/plain": [
       "[25, 10, 35, 15.5, 21, 25]"
      ]
     },
     "execution_count": 24,
     "metadata": {},
     "output_type": "execute_result"
    }
   ],
   "source": [
    "nums"
   ]
  },
  {
   "cell_type": "code",
   "execution_count": 25,
   "id": "979b3aed-bf5e-45e7-a0e3-0087920b7b49",
   "metadata": {},
   "outputs": [
    {
     "data": {
      "text/plain": [
       "list"
      ]
     },
     "execution_count": 25,
     "metadata": {},
     "output_type": "execute_result"
    }
   ],
   "source": [
    "type(nums)"
   ]
  },
  {
   "cell_type": "code",
   "execution_count": 26,
   "id": "7f210180-ce54-4e49-9f25-da1c55f56683",
   "metadata": {},
   "outputs": [
    {
     "data": {
      "text/plain": [
       "25"
      ]
     },
     "execution_count": 26,
     "metadata": {},
     "output_type": "execute_result"
    }
   ],
   "source": [
    "nums[0]"
   ]
  },
  {
   "cell_type": "code",
   "execution_count": 27,
   "id": "2047c55b-324c-4d60-850a-fc40711267ca",
   "metadata": {},
   "outputs": [
    {
     "ename": "IndexError",
     "evalue": "list index out of range",
     "output_type": "error",
     "traceback": [
      "\u001b[1;31m---------------------------------------------------------------------------\u001b[0m",
      "\u001b[1;31mIndexError\u001b[0m                                Traceback (most recent call last)",
      "Cell \u001b[1;32mIn[27], line 1\u001b[0m\n\u001b[1;32m----> 1\u001b[0m nums[\u001b[38;5;241m100\u001b[39m]\n",
      "\u001b[1;31mIndexError\u001b[0m: list index out of range"
     ]
    }
   ],
   "source": [
    "nums[100]"
   ]
  },
  {
   "cell_type": "code",
   "execution_count": 28,
   "id": "96d371ce-55b9-48fa-bd1f-d74773267c78",
   "metadata": {},
   "outputs": [
    {
     "ename": "SyntaxError",
     "evalue": "unexpected character after line continuation character (336862003.py, line 1)",
     "output_type": "error",
     "traceback": [
      "\u001b[1;36m  Cell \u001b[1;32mIn[28], line 1\u001b[1;36m\u001b[0m\n\u001b[1;33m    nums[10\\]\u001b[0m\n\u001b[1;37m            ^\u001b[0m\n\u001b[1;31mSyntaxError\u001b[0m\u001b[1;31m:\u001b[0m unexpected character after line continuation character\n"
     ]
    }
   ],
   "source": [
    "nums[10\\]"
   ]
  },
  {
   "cell_type": "code",
   "execution_count": 29,
   "id": "19460a71-aba4-4ae2-b7cd-49ad5f4d2f9d",
   "metadata": {},
   "outputs": [
    {
     "data": {
      "text/plain": [
       "[10, 35, 15.5]"
      ]
     },
     "execution_count": 29,
     "metadata": {},
     "output_type": "execute_result"
    }
   ],
   "source": [
    "nums[1:4]"
   ]
  },
  {
   "cell_type": "code",
   "execution_count": 30,
   "id": "5e21ef59-c1a0-4c00-a69e-a39535fbc233",
   "metadata": {},
   "outputs": [
    {
     "data": {
      "text/plain": [
       "[10, 35, 15.5, 21, 25]"
      ]
     },
     "execution_count": 30,
     "metadata": {},
     "output_type": "execute_result"
    }
   ],
   "source": [
    "nums[1:]"
   ]
  },
  {
   "cell_type": "code",
   "execution_count": 31,
   "id": "a73b2cb0-b134-4617-9a31-c290946064e0",
   "metadata": {},
   "outputs": [
    {
     "data": {
      "text/plain": [
       "[25, 21, 15.5, 35, 10, 25]"
      ]
     },
     "execution_count": 31,
     "metadata": {},
     "output_type": "execute_result"
    }
   ],
   "source": [
    "nums[::-1]"
   ]
  },
  {
   "cell_type": "code",
   "execution_count": 32,
   "id": "0d434099-c097-4836-8af5-8735ae5b2c8f",
   "metadata": {},
   "outputs": [],
   "source": [
    "nums.sort()"
   ]
  },
  {
   "cell_type": "code",
   "execution_count": 33,
   "id": "bf8fa99c-859d-46f8-baf1-e91e65341223",
   "metadata": {},
   "outputs": [
    {
     "data": {
      "text/plain": [
       "[10, 15.5, 21, 25, 25, 35]"
      ]
     },
     "execution_count": 33,
     "metadata": {},
     "output_type": "execute_result"
    }
   ],
   "source": [
    "nums"
   ]
  },
  {
   "cell_type": "code",
   "execution_count": 34,
   "id": "cca2dc6a-e10f-4c9c-86ac-a586710b7db0",
   "metadata": {},
   "outputs": [],
   "source": [
    "nums.sort(reverse=True)"
   ]
  },
  {
   "cell_type": "code",
   "execution_count": 35,
   "id": "6ce5ea7b-c083-4488-bf81-948473f248b0",
   "metadata": {},
   "outputs": [
    {
     "data": {
      "text/plain": [
       "[35, 25, 25, 21, 15.5, 10]"
      ]
     },
     "execution_count": 35,
     "metadata": {},
     "output_type": "execute_result"
    }
   ],
   "source": [
    "nums"
   ]
  },
  {
   "cell_type": "code",
   "execution_count": 36,
   "id": "ac978731-50cb-46c5-91bd-c96a1da903b2",
   "metadata": {},
   "outputs": [
    {
     "data": {
      "text/plain": [
       "[35, 25, 25, 21, 15.5, 10, 100]"
      ]
     },
     "execution_count": 36,
     "metadata": {},
     "output_type": "execute_result"
    }
   ],
   "source": [
    "nums.append(100)\n",
    "nums"
   ]
  },
  {
   "cell_type": "code",
   "execution_count": 37,
   "id": "eb67dcda-ac58-407f-adfd-c842374fbadb",
   "metadata": {},
   "outputs": [],
   "source": [
    "nums.insert(4,15)"
   ]
  },
  {
   "cell_type": "code",
   "execution_count": 38,
   "id": "3d7d1450-1414-494b-a3f4-209725201a1c",
   "metadata": {},
   "outputs": [
    {
     "data": {
      "text/plain": [
       "[35, 25, 25, 21, 15, 15.5, 10, 100]"
      ]
     },
     "execution_count": 38,
     "metadata": {},
     "output_type": "execute_result"
    }
   ],
   "source": [
    "nums"
   ]
  },
  {
   "cell_type": "code",
   "execution_count": 39,
   "id": "1ec85c9e-4116-4a96-9463-cf713ab55a2a",
   "metadata": {},
   "outputs": [
    {
     "data": {
      "text/plain": [
       "25"
      ]
     },
     "execution_count": 39,
     "metadata": {},
     "output_type": "execute_result"
    }
   ],
   "source": [
    "nums.pop(1)"
   ]
  },
  {
   "cell_type": "code",
   "execution_count": 40,
   "id": "abdf2de9-feca-4fed-8e52-b18289758f86",
   "metadata": {},
   "outputs": [
    {
     "data": {
      "text/plain": [
       "[35, 25, 21, 15, 15.5, 10, 100]"
      ]
     },
     "execution_count": 40,
     "metadata": {},
     "output_type": "execute_result"
    }
   ],
   "source": [
    "nums"
   ]
  },
  {
   "cell_type": "code",
   "execution_count": 41,
   "id": "da2c0a8b-7b66-4936-a9e5-e4a63f7fe1cf",
   "metadata": {},
   "outputs": [],
   "source": [
    "del nums[2:]"
   ]
  },
  {
   "cell_type": "code",
   "execution_count": 42,
   "id": "ab03011a-75a8-4173-8a80-2fe6f5e3053f",
   "metadata": {},
   "outputs": [
    {
     "data": {
      "text/plain": [
       "[35, 25]"
      ]
     },
     "execution_count": 42,
     "metadata": {},
     "output_type": "execute_result"
    }
   ],
   "source": [
    "nums"
   ]
  },
  {
   "cell_type": "code",
   "execution_count": 43,
   "id": "e89d2efd-972a-4ae1-b3db-899fd9db510e",
   "metadata": {},
   "outputs": [
    {
     "data": {
      "text/plain": [
       "[35, 25]"
      ]
     },
     "execution_count": 43,
     "metadata": {},
     "output_type": "execute_result"
    }
   ],
   "source": [
    "nums"
   ]
  },
  {
   "cell_type": "code",
   "execution_count": 46,
   "id": "d3a86b10-be7a-4f92-95f6-f4047615776f",
   "metadata": {},
   "outputs": [],
   "source": [
    "nums.extend([25,21,67,89])"
   ]
  },
  {
   "cell_type": "code",
   "execution_count": 47,
   "id": "3b4b387d-e84d-447a-9b16-bd8f37a934d1",
   "metadata": {},
   "outputs": [
    {
     "data": {
      "text/plain": [
       "[35, 25, 25, 21, 67, 89]"
      ]
     },
     "execution_count": 47,
     "metadata": {},
     "output_type": "execute_result"
    }
   ],
   "source": [
    "nums"
   ]
  },
  {
   "cell_type": "code",
   "execution_count": 48,
   "id": "7d1a7ea2-aede-47a6-85ba-56f789b79fd0",
   "metadata": {},
   "outputs": [
    {
     "data": {
      "text/plain": [
       "21"
      ]
     },
     "execution_count": 48,
     "metadata": {},
     "output_type": "execute_result"
    }
   ],
   "source": [
    "min(nums)"
   ]
  },
  {
   "cell_type": "code",
   "execution_count": 49,
   "id": "ff0cb143-1cc3-42e2-afdd-cf76b25a8a93",
   "metadata": {},
   "outputs": [
    {
     "data": {
      "text/plain": [
       "262"
      ]
     },
     "execution_count": 49,
     "metadata": {},
     "output_type": "execute_result"
    }
   ],
   "source": [
    "sum(nums)"
   ]
  },
  {
   "cell_type": "code",
   "execution_count": 50,
   "id": "e9dfde1e-80f4-4b3e-997c-658b827a3dfc",
   "metadata": {},
   "outputs": [
    {
     "data": {
      "text/plain": [
       "89"
      ]
     },
     "execution_count": 50,
     "metadata": {},
     "output_type": "execute_result"
    }
   ],
   "source": [
    "max(nums)"
   ]
  },
  {
   "cell_type": "code",
   "execution_count": 52,
   "id": "dd6a3847-f3ff-42f3-8e28-ffe0ce92b59a",
   "metadata": {},
   "outputs": [
    {
     "ename": "NameError",
     "evalue": "name 'average' is not defined",
     "output_type": "error",
     "traceback": [
      "\u001b[1;31m---------------------------------------------------------------------------\u001b[0m",
      "\u001b[1;31mNameError\u001b[0m                                 Traceback (most recent call last)",
      "Cell \u001b[1;32mIn[52], line 1\u001b[0m\n\u001b[1;32m----> 1\u001b[0m average(nums)\n",
      "\u001b[1;31mNameError\u001b[0m: name 'average' is not defined"
     ]
    }
   ],
   "source": [
    "average(nums)"
   ]
  },
  {
   "cell_type": "code",
   "execution_count": 53,
   "id": "67cdf5e0-f712-4aa5-b4df-5a6758c43035",
   "metadata": {},
   "outputs": [
    {
     "ename": "NameError",
     "evalue": "name 'mean' is not defined",
     "output_type": "error",
     "traceback": [
      "\u001b[1;31m---------------------------------------------------------------------------\u001b[0m",
      "\u001b[1;31mNameError\u001b[0m                                 Traceback (most recent call last)",
      "Cell \u001b[1;32mIn[53], line 1\u001b[0m\n\u001b[1;32m----> 1\u001b[0m mean(nums)\n",
      "\u001b[1;31mNameError\u001b[0m: name 'mean' is not defined"
     ]
    }
   ],
   "source": [
    "mean(nums)"
   ]
  },
  {
   "cell_type": "code",
   "execution_count": 54,
   "id": "3f408302-0ac8-4407-90d9-bfeecf0545ba",
   "metadata": {},
   "outputs": [
    {
     "data": {
      "text/plain": [
       "(25, 10, 35, 15.5, 21, 25)"
      ]
     },
     "execution_count": 54,
     "metadata": {},
     "output_type": "execute_result"
    }
   ],
   "source": [
    "#### Tuple\n",
    "nums=(25,10,35,15.5,21,25)\n",
    "nums"
   ]
  },
  {
   "cell_type": "code",
   "execution_count": 55,
   "id": "cd36819d-6b9c-4df4-9216-1cce4733d42c",
   "metadata": {},
   "outputs": [
    {
     "data": {
      "text/plain": [
       "tuple"
      ]
     },
     "execution_count": 55,
     "metadata": {},
     "output_type": "execute_result"
    }
   ],
   "source": [
    "type(nums)"
   ]
  },
  {
   "cell_type": "code",
   "execution_count": 56,
   "id": "a59aa69e-59a0-4a89-972a-78966744fbef",
   "metadata": {},
   "outputs": [
    {
     "data": {
      "text/plain": [
       "tuple"
      ]
     },
     "execution_count": 56,
     "metadata": {},
     "output_type": "execute_result"
    }
   ],
   "source": [
    "nums=25,10,35,15.5,21,25\n",
    "type(nums)"
   ]
  },
  {
   "cell_type": "code",
   "execution_count": 57,
   "id": "1fad3870-96ec-4a3f-aa96-338dc23cd29f",
   "metadata": {},
   "outputs": [
    {
     "data": {
      "text/plain": [
       "25"
      ]
     },
     "execution_count": 57,
     "metadata": {},
     "output_type": "execute_result"
    }
   ],
   "source": [
    "nums[0]"
   ]
  },
  {
   "cell_type": "code",
   "execution_count": 58,
   "id": "02e88d85-471d-40a5-b1b8-31b864ba00e1",
   "metadata": {},
   "outputs": [
    {
     "data": {
      "text/plain": [
       "(25, 10, 35)"
      ]
     },
     "execution_count": 58,
     "metadata": {},
     "output_type": "execute_result"
    }
   ],
   "source": [
    "nums[0:3]"
   ]
  },
  {
   "cell_type": "code",
   "execution_count": 59,
   "id": "ff251eba-b443-48df-a011-03e6e0a71998",
   "metadata": {},
   "outputs": [
    {
     "data": {
      "text/plain": [
       "25"
      ]
     },
     "execution_count": 59,
     "metadata": {},
     "output_type": "execute_result"
    }
   ],
   "source": [
    "nums[-1]"
   ]
  },
  {
   "cell_type": "code",
   "execution_count": 60,
   "id": "18901df4-a23e-44bf-a864-7694a9f76028",
   "metadata": {},
   "outputs": [
    {
     "ename": "AttributeError",
     "evalue": "'tuple' object has no attribute 'sort'",
     "output_type": "error",
     "traceback": [
      "\u001b[1;31m---------------------------------------------------------------------------\u001b[0m",
      "\u001b[1;31mAttributeError\u001b[0m                            Traceback (most recent call last)",
      "Cell \u001b[1;32mIn[60], line 1\u001b[0m\n\u001b[1;32m----> 1\u001b[0m nums\u001b[38;5;241m.\u001b[39msort()\n",
      "\u001b[1;31mAttributeError\u001b[0m: 'tuple' object has no attribute 'sort'"
     ]
    }
   ],
   "source": [
    "nums.sort()"
   ]
  },
  {
   "cell_type": "code",
   "execution_count": 61,
   "id": "b68f59c6-b6e3-498c-b98a-d6a0e775537a",
   "metadata": {},
   "outputs": [
    {
     "data": {
      "text/plain": [
       "25"
      ]
     },
     "execution_count": 61,
     "metadata": {},
     "output_type": "execute_result"
    }
   ],
   "source": [
    "nums[0]"
   ]
  },
  {
   "cell_type": "code",
   "execution_count": 62,
   "id": "28f3797b-eff7-4d8f-9ab8-27a7b3cc2f9c",
   "metadata": {},
   "outputs": [
    {
     "ename": "TypeError",
     "evalue": "'tuple' object does not support item assignment",
     "output_type": "error",
     "traceback": [
      "\u001b[1;31m---------------------------------------------------------------------------\u001b[0m",
      "\u001b[1;31mTypeError\u001b[0m                                 Traceback (most recent call last)",
      "Cell \u001b[1;32mIn[62], line 1\u001b[0m\n\u001b[1;32m----> 1\u001b[0m nums[\u001b[38;5;241m0\u001b[39m]\u001b[38;5;241m=\u001b[39m\u001b[38;5;241m100\u001b[39m\n\u001b[0;32m      2\u001b[0m nums\n",
      "\u001b[1;31mTypeError\u001b[0m: 'tuple' object does not support item assignment"
     ]
    }
   ],
   "source": [
    "nums[0]=100\n",
    "nums"
   ]
  },
  {
   "cell_type": "markdown",
   "id": "84edc953-094b-4f1b-b7ae-7c286d09e4c5",
   "metadata": {},
   "source": [
    "##### Heterogenous\n",
    "##### indexing and slicing\n",
    "##### () or no brackets\n",
    "##### Immutable->Changes cannot be done"
   ]
  },
  {
   "cell_type": "code",
   "execution_count": 63,
   "id": "4af20e80-fa55-42b2-af74-1c367213669f",
   "metadata": {},
   "outputs": [
    {
     "data": {
      "text/plain": [
       "{1: 'Abraham', 2: 'ranjit', 3: 'Sam', 4: 'Ramya', 7: 'Sam'}"
      ]
     },
     "execution_count": 63,
     "metadata": {},
     "output_type": "execute_result"
    }
   ],
   "source": [
    "### Dictionary\n",
    "employees={1:\"Abraham\",2:\"Ramdeep\",3:\"Sam\",4:\"Ramya\",2:\"ranjit\",7:\"Sam\"}\n",
    "employees"
   ]
  },
  {
   "cell_type": "code",
   "execution_count": 64,
   "id": "d7e4fedf-b83a-4755-a575-6290ac5a5452",
   "metadata": {},
   "outputs": [
    {
     "ename": "KeyError",
     "evalue": "0",
     "output_type": "error",
     "traceback": [
      "\u001b[1;31m---------------------------------------------------------------------------\u001b[0m",
      "\u001b[1;31mKeyError\u001b[0m                                  Traceback (most recent call last)",
      "Cell \u001b[1;32mIn[64], line 1\u001b[0m\n\u001b[1;32m----> 1\u001b[0m employees[\u001b[38;5;241m0\u001b[39m]\n",
      "\u001b[1;31mKeyError\u001b[0m: 0"
     ]
    }
   ],
   "source": [
    "employees[0]"
   ]
  },
  {
   "cell_type": "code",
   "execution_count": 65,
   "id": "78aa5ac5-1c3c-4efa-a2fd-ba1793fbff43",
   "metadata": {},
   "outputs": [
    {
     "data": {
      "text/plain": [
       "'Abraham'"
      ]
     },
     "execution_count": 65,
     "metadata": {},
     "output_type": "execute_result"
    }
   ],
   "source": [
    "employees[1]"
   ]
  },
  {
   "cell_type": "code",
   "execution_count": 67,
   "id": "53a4643c-1cf8-43ad-9884-ee5b0bcb6af3",
   "metadata": {},
   "outputs": [
    {
     "data": {
      "text/plain": [
       "'Sam'"
      ]
     },
     "execution_count": 67,
     "metadata": {},
     "output_type": "execute_result"
    }
   ],
   "source": [
    "employees[7]"
   ]
  },
  {
   "cell_type": "code",
   "execution_count": 68,
   "id": "2f06557d-2d68-4af2-9edc-2642cb29166b",
   "metadata": {},
   "outputs": [
    {
     "ename": "KeyError",
     "evalue": "'Sam'",
     "output_type": "error",
     "traceback": [
      "\u001b[1;31m---------------------------------------------------------------------------\u001b[0m",
      "\u001b[1;31mKeyError\u001b[0m                                  Traceback (most recent call last)",
      "Cell \u001b[1;32mIn[68], line 1\u001b[0m\n\u001b[1;32m----> 1\u001b[0m employees[\u001b[38;5;124m\"\u001b[39m\u001b[38;5;124mSam\u001b[39m\u001b[38;5;124m\"\u001b[39m]\n",
      "\u001b[1;31mKeyError\u001b[0m: 'Sam'"
     ]
    }
   ],
   "source": [
    "employees[\"Sam\"]"
   ]
  },
  {
   "cell_type": "code",
   "execution_count": 69,
   "id": "12aa059e-1086-4023-b178-7d6958485834",
   "metadata": {},
   "outputs": [
    {
     "ename": "SyntaxError",
     "evalue": "invalid syntax (129827838.py, line 1)",
     "output_type": "error",
     "traceback": [
      "\u001b[1;36m  Cell \u001b[1;32mIn[69], line 1\u001b[1;36m\u001b[0m\n\u001b[1;33m    employees.append(8:\"Arjun\")\u001b[0m\n\u001b[1;37m                      ^\u001b[0m\n\u001b[1;31mSyntaxError\u001b[0m\u001b[1;31m:\u001b[0m invalid syntax\n"
     ]
    }
   ],
   "source": [
    "employees.append(8:\"Arjun\")"
   ]
  },
  {
   "cell_type": "code",
   "execution_count": 70,
   "id": "06c46717-f3d8-4631-aa50-c88af786db8f",
   "metadata": {},
   "outputs": [],
   "source": [
    "employees[8]=\"Arjun\""
   ]
  },
  {
   "cell_type": "code",
   "execution_count": 71,
   "id": "2d6c1c89-f41f-4a10-b5a7-06ffd66427db",
   "metadata": {},
   "outputs": [
    {
     "data": {
      "text/plain": [
       "{1: 'Abraham', 2: 'ranjit', 3: 'Sam', 4: 'Ramya', 7: 'Sam', 8: 'Arjun'}"
      ]
     },
     "execution_count": 71,
     "metadata": {},
     "output_type": "execute_result"
    }
   ],
   "source": [
    "employees"
   ]
  },
  {
   "cell_type": "code",
   "execution_count": 72,
   "id": "e8f9c5e7-970f-417d-9d57-8b7be954c25c",
   "metadata": {},
   "outputs": [],
   "source": [
    "employees[0]=\"Adarsh\""
   ]
  },
  {
   "cell_type": "code",
   "execution_count": 73,
   "id": "1e308319-b24a-41f1-82f7-37a53b2c53ac",
   "metadata": {},
   "outputs": [
    {
     "data": {
      "text/plain": [
       "{1: 'Abraham',\n",
       " 2: 'ranjit',\n",
       " 3: 'Sam',\n",
       " 4: 'Ramya',\n",
       " 7: 'Sam',\n",
       " 8: 'Arjun',\n",
       " 0: 'Adarsh'}"
      ]
     },
     "execution_count": 73,
     "metadata": {},
     "output_type": "execute_result"
    }
   ],
   "source": [
    "employees"
   ]
  },
  {
   "cell_type": "code",
   "execution_count": 74,
   "id": "b71c0ac4-9f62-42d2-8580-654ec20ffb1e",
   "metadata": {},
   "outputs": [
    {
     "data": {
      "text/plain": [
       "'Arjun'"
      ]
     },
     "execution_count": 74,
     "metadata": {},
     "output_type": "execute_result"
    }
   ],
   "source": [
    "employees.pop(8)"
   ]
  },
  {
   "cell_type": "code",
   "execution_count": 75,
   "id": "0cd29155-7df8-4abc-a7ba-a2c2fe225ee2",
   "metadata": {},
   "outputs": [
    {
     "data": {
      "text/plain": [
       "{1: 'Abraham', 2: 'ranjit', 3: 'Sam', 4: 'Ramya', 7: 'Sam', 0: 'Adarsh'}"
      ]
     },
     "execution_count": 75,
     "metadata": {},
     "output_type": "execute_result"
    }
   ],
   "source": [
    "employees"
   ]
  },
  {
   "cell_type": "code",
   "execution_count": null,
   "id": "852b0455-70d9-4fcf-b9ed-0b7356da5ebb",
   "metadata": {},
   "outputs": [],
   "source": [
    "##### Dictionary-Key value pair\n",
    "##### key is uniue\n",
    "##### Values can be duplicated\n",
    "##### We can retrieve Value using key but the reverse cannot happen"
   ]
  }
 ],
 "metadata": {
  "kernelspec": {
   "display_name": "Python 3 (ipykernel)",
   "language": "python",
   "name": "python3"
  },
  "language_info": {
   "codemirror_mode": {
    "name": "ipython",
    "version": 3
   },
   "file_extension": ".py",
   "mimetype": "text/x-python",
   "name": "python",
   "nbconvert_exporter": "python",
   "pygments_lexer": "ipython3",
   "version": "3.11.7"
  }
 },
 "nbformat": 4,
 "nbformat_minor": 5
}
