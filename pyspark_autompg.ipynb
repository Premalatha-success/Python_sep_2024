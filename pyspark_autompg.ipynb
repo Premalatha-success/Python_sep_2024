{
 "cells": [
  {
   "cell_type": "code",
   "execution_count": 0,
   "metadata": {
    "application/vnd.databricks.v1+cell": {
     "cellMetadata": {
      "byteLimit": 2048000,
      "rowLimit": 10000
     },
     "inputWidgets": {},
     "nuid": "2bc0c641-d8bd-4c59-b711-04a4b53da7cb",
     "showTitle": false,
     "title": ""
    }
   },
   "outputs": [],
   "source": [
    "from pyspark.sql import SparkSession"
   ]
  },
  {
   "cell_type": "code",
   "execution_count": 0,
   "metadata": {
    "application/vnd.databricks.v1+cell": {
     "cellMetadata": {
      "byteLimit": 2048000,
      "rowLimit": 10000
     },
     "inputWidgets": {},
     "nuid": "034d69a3-7f44-472e-a1b6-3168ac9d1090",
     "showTitle": false,
     "title": ""
    }
   },
   "outputs": [],
   "source": [
    "spark=SparkSession.builder.appName(\"mpg\").getOrCreate()"
   ]
  },
  {
   "cell_type": "code",
   "execution_count": 0,
   "metadata": {
    "application/vnd.databricks.v1+cell": {
     "cellMetadata": {
      "byteLimit": 2048000,
      "rowLimit": 10000
     },
     "inputWidgets": {},
     "nuid": "3f59dfed-3c72-4c28-bdc3-4efee34b885e",
     "showTitle": false,
     "title": ""
    }
   },
   "outputs": [
    {
     "output_type": "display_data",
     "data": {
      "text/html": [
       "\n",
       "            <div>\n",
       "                <p><b>SparkSession - hive</b></p>\n",
       "                \n",
       "        <div>\n",
       "            <p><b>SparkContext</b></p>\n",
       "\n",
       "            <p><a href=\"/?o=2408192449727195#setting/sparkui/0928-043807-8yco4blp/driver-3685343093169275935\">Spark UI</a></p>\n",
       "\n",
       "            <dl>\n",
       "              <dt>Version</dt>\n",
       "                <dd><code>v3.3.2</code></dd>\n",
       "              <dt>Master</dt>\n",
       "                <dd><code>local[8]</code></dd>\n",
       "              <dt>AppName</dt>\n",
       "                <dd><code>Databricks Shell</code></dd>\n",
       "            </dl>\n",
       "        </div>\n",
       "        \n",
       "            </div>\n",
       "        "
      ]
     },
     "metadata": {
      "application/vnd.databricks.v1+output": {
       "addedWidgets": {},
       "arguments": {},
       "data": "\n            <div>\n                <p><b>SparkSession - hive</b></p>\n                \n        <div>\n            <p><b>SparkContext</b></p>\n\n            <p><a href=\"/?o=2408192449727195#setting/sparkui/0928-043807-8yco4blp/driver-3685343093169275935\">Spark UI</a></p>\n\n            <dl>\n              <dt>Version</dt>\n                <dd><code>v3.3.2</code></dd>\n              <dt>Master</dt>\n                <dd><code>local[8]</code></dd>\n              <dt>AppName</dt>\n                <dd><code>Databricks Shell</code></dd>\n            </dl>\n        </div>\n        \n            </div>\n        ",
       "datasetInfos": [],
       "metadata": {},
       "removedWidgets": [],
       "textData": null,
       "type": "htmlSandbox"
      }
     },
     "output_type": "display_data"
    }
   ],
   "source": [
    "spark"
   ]
  },
  {
   "cell_type": "markdown",
   "metadata": {
    "application/vnd.databricks.v1+cell": {
     "cellMetadata": {},
     "inputWidgets": {},
     "nuid": "aae261ff-14b8-42dd-8b80-8008fef8d9d9",
     "showTitle": false,
     "title": ""
    }
   },
   "source": [
    "Load the dataframe"
   ]
  },
  {
   "cell_type": "code",
   "execution_count": 0,
   "metadata": {
    "application/vnd.databricks.v1+cell": {
     "cellMetadata": {
      "byteLimit": 2048000,
      "rowLimit": 10000
     },
     "inputWidgets": {},
     "nuid": "085e829c-0d75-4c34-8952-446011d1b18a",
     "showTitle": false,
     "title": ""
    }
   },
   "outputs": [],
   "source": [
    "df1 = spark.read.format(\"csv\").option(\"header\", \"true\").load(\"dbfs:/FileStore/shared_uploads/nivimachinelearning@gmail.com/auto_mpg.csv\",inferSchema=\"True\")"
   ]
  },
  {
   "cell_type": "code",
   "execution_count": 0,
   "metadata": {
    "application/vnd.databricks.v1+cell": {
     "cellMetadata": {
      "byteLimit": 2048000,
      "rowLimit": 10000
     },
     "inputWidgets": {},
     "nuid": "6325a122-7380-4ed0-bf15-9c6e9b18972c",
     "showTitle": false,
     "title": ""
    }
   },
   "outputs": [
    {
     "output_type": "stream",
     "name": "stdout",
     "output_type": "stream",
     "text": [
      "root\n |-- mpg: double (nullable = true)\n |-- cyl: integer (nullable = true)\n |-- disp: double (nullable = true)\n |-- hp: string (nullable = true)\n |-- wt: integer (nullable = true)\n |-- acc: double (nullable = true)\n |-- yr: integer (nullable = true)\n |-- origin: integer (nullable = true)\n |-- car name: string (nullable = true)\n\n"
     ]
    }
   ],
   "source": [
    "df1.printSchema()"
   ]
  },
  {
   "cell_type": "code",
   "execution_count": 0,
   "metadata": {
    "application/vnd.databricks.v1+cell": {
     "cellMetadata": {
      "byteLimit": 2048000,
      "rowLimit": 10000
     },
     "inputWidgets": {},
     "nuid": "5ef21483-be80-45be-8715-103af27fa8ee",
     "showTitle": false,
     "title": ""
    }
   },
   "outputs": [
    {
     "output_type": "stream",
     "name": "stdout",
     "output_type": "stream",
     "text": [
      "+----+---+-----+---+----+----+---+------+--------------------+\n| mpg|cyl| disp| hp|  wt| acc| yr|origin|            car name|\n+----+---+-----+---+----+----+---+------+--------------------+\n|18.0|  8|307.0|130|3504|12.0| 70|     1|chevrolet chevell...|\n|15.0|  8|350.0|165|3693|11.5| 70|     1|   buick skylark 320|\n|18.0|  8|318.0|150|3436|11.0| 70|     1|  plymouth satellite|\n|16.0|  8|304.0|150|3433|12.0| 70|     1|       amc rebel sst|\n|17.0|  8|302.0|140|3449|10.5| 70|     1|         ford torino|\n+----+---+-----+---+----+----+---+------+--------------------+\nonly showing top 5 rows\n\n"
     ]
    }
   ],
   "source": [
    "df1.show(5)"
   ]
  },
  {
   "cell_type": "markdown",
   "metadata": {
    "application/vnd.databricks.v1+cell": {
     "cellMetadata": {},
     "inputWidgets": {},
     "nuid": "935c7143-e63c-41fb-9749-ce2b2a4deac2",
     "showTitle": false,
     "title": ""
    }
   },
   "source": [
    "filter 5 rows where mpg>20 "
   ]
  },
  {
   "cell_type": "code",
   "execution_count": 0,
   "metadata": {
    "application/vnd.databricks.v1+cell": {
     "cellMetadata": {
      "byteLimit": 2048000,
      "rowLimit": 10000
     },
     "inputWidgets": {},
     "nuid": "44a64fcb-ba0a-4540-9035-13129fbd06f7",
     "showTitle": false,
     "title": ""
    }
   },
   "outputs": [
    {
     "output_type": "stream",
     "name": "stdout",
     "output_type": "stream",
     "text": [
      "+----+---+-----+---+----+----+---+------+--------------------+\n| mpg|cyl| disp| hp|  wt| acc| yr|origin|            car name|\n+----+---+-----+---+----+----+---+------+--------------------+\n|24.0|  4|113.0| 95|2372|15.0| 70|     3|toyota corona mar...|\n|22.0|  6|198.0| 95|2833|15.5| 70|     1|     plymouth duster|\n|21.0|  6|200.0| 85|2587|16.0| 70|     1|       ford maverick|\n|27.0|  4| 97.0| 88|2130|14.5| 70|     3|        datsun pl510|\n|26.0|  4| 97.0| 46|1835|20.5| 70|     2|volkswagen 1131 d...|\n+----+---+-----+---+----+----+---+------+--------------------+\nonly showing top 5 rows\n\n"
     ]
    }
   ],
   "source": [
    "df1.filter(df1.mpg>20).show(5)"
   ]
  },
  {
   "cell_type": "code",
   "execution_count": 0,
   "metadata": {
    "application/vnd.databricks.v1+cell": {
     "cellMetadata": {
      "byteLimit": 2048000,
      "rowLimit": 10000
     },
     "inputWidgets": {},
     "nuid": "5b387203-4b73-4168-98a5-a1fff279ada3",
     "showTitle": false,
     "title": ""
    }
   },
   "outputs": [
    {
     "output_type": "stream",
     "name": "stdout",
     "output_type": "stream",
     "text": [
      "+--------------------+----+\n|            car name| mpg|\n+--------------------+----+\n|chevrolet chevell...|18.0|\n|   buick skylark 320|15.0|\n|  plymouth satellite|18.0|\n|       amc rebel sst|16.0|\n|         ford torino|17.0|\n+--------------------+----+\nonly showing top 5 rows\n\n"
     ]
    }
   ],
   "source": [
    "### select the car name and mpg(5 records)\n",
    "df1.select(\"car name\",\"mpg\").show(5)"
   ]
  },
  {
   "cell_type": "code",
   "execution_count": 0,
   "metadata": {
    "application/vnd.databricks.v1+cell": {
     "cellMetadata": {
      "byteLimit": 2048000,
      "rowLimit": 10000
     },
     "inputWidgets": {},
     "nuid": "0531d350-10c2-4a72-9cdc-178f3abee0eb",
     "showTitle": false,
     "title": ""
    }
   },
   "outputs": [
    {
     "output_type": "stream",
     "name": "stdout",
     "output_type": "stream",
     "text": [
      "+--------------+---+-----+---+----+----+---+------+--------------------+\n|mpg_per_gallon|cyl| disp| hp|  wt| acc| yr|origin|            car name|\n+--------------+---+-----+---+----+----+---+------+--------------------+\n|          18.0|  8|307.0|130|3504|12.0| 70|     1|chevrolet chevell...|\n|          15.0|  8|350.0|165|3693|11.5| 70|     1|   buick skylark 320|\n|          18.0|  8|318.0|150|3436|11.0| 70|     1|  plymouth satellite|\n|          16.0|  8|304.0|150|3433|12.0| 70|     1|       amc rebel sst|\n|          17.0|  8|302.0|140|3449|10.5| 70|     1|         ford torino|\n+--------------+---+-----+---+----+----+---+------+--------------------+\nonly showing top 5 rows\n\n"
     ]
    }
   ],
   "source": [
    "### Rename the column mpg with miles_per_gallon\n",
    "df=df1.withColumnRenamed(\"mpg\",\"mpg_per_gallon\")\n",
    "df.show(5)"
   ]
  },
  {
   "cell_type": "code",
   "execution_count": 0,
   "metadata": {
    "application/vnd.databricks.v1+cell": {
     "cellMetadata": {
      "byteLimit": 2048000,
      "rowLimit": 10000
     },
     "inputWidgets": {},
     "nuid": "d7fecac7-8545-41e3-a658-4cbc694ada1d",
     "showTitle": false,
     "title": ""
    }
   },
   "outputs": [
    {
     "output_type": "stream",
     "name": "stdout",
     "output_type": "stream",
     "text": [
      "+---+------------------+\n|cyl|          avg(mpg)|\n+---+------------------+\n|  6|19.985714285714284|\n|  3|             20.55|\n|  5|27.366666666666664|\n|  4| 29.28676470588236|\n|  8|14.963106796116508|\n+---+------------------+\n\n"
     ]
    }
   ],
   "source": [
    "### Calculate average mpg for each cylinders group\n",
    "df1.groupBy(\"cyl\").agg({\"mpg\": \"avg\"}).show(10)"
   ]
  },
  {
   "cell_type": "code",
   "execution_count": 0,
   "metadata": {
    "application/vnd.databricks.v1+cell": {
     "cellMetadata": {
      "byteLimit": 2048000,
      "rowLimit": 10000
     },
     "inputWidgets": {},
     "nuid": "dacfcf2b-5a9c-41a9-aa3f-d4a2dc1fd5b6",
     "showTitle": false,
     "title": ""
    }
   },
   "outputs": [],
   "source": [
    "df2=df1.filter(df.hp !=\"?\")\n"
   ]
  },
  {
   "cell_type": "code",
   "execution_count": 0,
   "metadata": {
    "application/vnd.databricks.v1+cell": {
     "cellMetadata": {
      "byteLimit": 2048000,
      "rowLimit": 10000
     },
     "inputWidgets": {},
     "nuid": "01d252d6-8353-4d77-a238-adc049473c22",
     "showTitle": false,
     "title": ""
    }
   },
   "outputs": [
    {
     "output_type": "stream",
     "name": "stdout",
     "output_type": "stream",
     "text": [
      "+----+---+-----+---+----+----+---+------+--------------------+\n| mpg|cyl| disp| hp|  wt| acc| yr|origin|            car name|\n+----+---+-----+---+----+----+---+------+--------------------+\n|18.0|  8|307.0|130|3504|12.0| 70|     1|chevrolet chevell...|\n|15.0|  8|350.0|165|3693|11.5| 70|     1|   buick skylark 320|\n|18.0|  8|318.0|150|3436|11.0| 70|     1|  plymouth satellite|\n|16.0|  8|304.0|150|3433|12.0| 70|     1|       amc rebel sst|\n|17.0|  8|302.0|140|3449|10.5| 70|     1|         ford torino|\n|15.0|  8|429.0|198|4341|10.0| 70|     1|    ford galaxie 500|\n|14.0|  8|454.0|220|4354| 9.0| 70|     1|    chevrolet impala|\n|14.0|  8|440.0|215|4312| 8.5| 70|     1|   plymouth fury iii|\n|14.0|  8|455.0|225|4425|10.0| 70|     1|    pontiac catalina|\n|15.0|  8|390.0|190|3850| 8.5| 70|     1|  amc ambassador dpl|\n|15.0|  8|383.0|170|3563|10.0| 70|     1| dodge challenger se|\n|14.0|  8|340.0|160|3609| 8.0| 70|     1|  plymouth 'cuda 340|\n|15.0|  8|400.0|150|3761| 9.5| 70|     1|chevrolet monte c...|\n|14.0|  8|455.0|225|3086|10.0| 70|     1|buick estate wago...|\n|24.0|  4|113.0| 95|2372|15.0| 70|     3|toyota corona mar...|\n|22.0|  6|198.0| 95|2833|15.5| 70|     1|     plymouth duster|\n|18.0|  6|199.0| 97|2774|15.5| 70|     1|          amc hornet|\n|21.0|  6|200.0| 85|2587|16.0| 70|     1|       ford maverick|\n|27.0|  4| 97.0| 88|2130|14.5| 70|     3|        datsun pl510|\n|26.0|  4| 97.0| 46|1835|20.5| 70|     2|volkswagen 1131 d...|\n+----+---+-----+---+----+----+---+------+--------------------+\nonly showing top 20 rows\n\n"
     ]
    }
   ],
   "source": [
    "df2.show()"
   ]
  },
  {
   "cell_type": "code",
   "execution_count": 0,
   "metadata": {
    "application/vnd.databricks.v1+cell": {
     "cellMetadata": {
      "byteLimit": 2048000,
      "rowLimit": 10000
     },
     "inputWidgets": {},
     "nuid": "d299ad72-a616-4648-ab95-d119e3b3c6ba",
     "showTitle": false,
     "title": ""
    }
   },
   "outputs": [
    {
     "output_type": "stream",
     "name": "stdout",
     "output_type": "stream",
     "text": [
      "+----+---+-----+---+----+----+---+------+------------+\n| mpg|cyl| disp| hp|  wt| acc| yr|origin|    car name|\n+----+---+-----+---+----+----+---+------+------------+\n|22.0|  4|121.0| 98|2945|14.5| 75|     2| volvo 244dl|\n|18.5|  6|250.0| 98|3525|19.0| 77|     1|ford granada|\n|24.0|  4|119.0| 97|2545|17.0| 75|     3|  datsun 710|\n|18.0|  6|199.0| 97|2774|15.5| 70|     1|  amc hornet|\n|18.0|  6|171.0| 97|2984|14.5| 75|     1|  ford pinto|\n+----+---+-----+---+----+----+---+------+------------+\nonly showing top 5 rows\n\n"
     ]
    }
   ],
   "source": [
    "### Sort the dataframe by horsepower in descending order\n",
    "df2.orderBy(df2.hp.desc()).show(5)\n"
   ]
  },
  {
   "cell_type": "markdown",
   "metadata": {
    "application/vnd.databricks.v1+cell": {
     "cellMetadata": {},
     "inputWidgets": {},
     "nuid": "aec584e0-f3eb-49bd-867c-89eef17d00e1",
     "showTitle": false,
     "title": ""
    }
   },
   "source": [
    "The above gives wrong result"
   ]
  },
  {
   "cell_type": "markdown",
   "metadata": {
    "application/vnd.databricks.v1+cell": {
     "cellMetadata": {},
     "inputWidgets": {},
     "nuid": "b8d20b64-5933-4d4e-9686-aa24a84825d4",
     "showTitle": false,
     "title": ""
    }
   },
   "source": [
    "Change the data type of hp to float or int"
   ]
  },
  {
   "cell_type": "code",
   "execution_count": 0,
   "metadata": {
    "application/vnd.databricks.v1+cell": {
     "cellMetadata": {
      "byteLimit": 2048000,
      "rowLimit": 10000
     },
     "inputWidgets": {},
     "nuid": "75c315ca-cbed-4b1a-93b2-c870bea45d8d",
     "showTitle": false,
     "title": ""
    }
   },
   "outputs": [],
   "source": [
    "from pyspark.sql.functions import col\n",
    "from pyspark.sql.types import IntegerType"
   ]
  },
  {
   "cell_type": "code",
   "execution_count": 0,
   "metadata": {
    "application/vnd.databricks.v1+cell": {
     "cellMetadata": {
      "byteLimit": 2048000,
      "rowLimit": 10000
     },
     "inputWidgets": {},
     "nuid": "9c0cf7a3-d475-4a9a-9650-dcd333be3ab5",
     "showTitle": false,
     "title": ""
    }
   },
   "outputs": [
    {
     "output_type": "stream",
     "name": "stdout",
     "output_type": "stream",
     "text": [
      "+----+---+-----+---+----+----+---+------+--------------------+\n| mpg|cyl| disp| hp|  wt| acc| yr|origin|            car name|\n+----+---+-----+---+----+----+---+------+--------------------+\n|16.0|  8|400.0|230|4278| 9.5| 73|     1|  pontiac grand prix|\n|14.0|  8|455.0|225|3086|10.0| 70|     1|buick estate wago...|\n|14.0|  8|455.0|225|4425|10.0| 70|     1|    pontiac catalina|\n|12.0|  8|455.0|225|4951|11.0| 73|     1|buick electra 225...|\n|14.0|  8|454.0|220|4354| 9.0| 70|     1|    chevrolet impala|\n+----+---+-----+---+----+----+---+------+--------------------+\nonly showing top 5 rows\n\n"
     ]
    }
   ],
   "source": [
    "df3 = df1.withColumn(\"hp\",col(\"hp\").cast(IntegerType())).filter(df1.hp != \"?\")\n",
    "df3.orderBy(df3.hp.desc()).show(5)"
   ]
  },
  {
   "cell_type": "code",
   "execution_count": 0,
   "metadata": {
    "application/vnd.databricks.v1+cell": {
     "cellMetadata": {},
     "inputWidgets": {},
     "nuid": "bd66207b-ec15-4384-a93e-e8554fe0dbfa",
     "showTitle": false,
     "title": ""
    }
   },
   "outputs": [],
   "source": []
  }
 ],
 "metadata": {
  "application/vnd.databricks.v1+notebook": {
   "dashboards": [],
   "environmentMetadata": null,
   "language": "python",
   "notebookMetadata": {
    "pythonIndentUnit": 4
   },
   "notebookName": "pyspark_autompg",
   "widgets": {}
  }
 },
 "nbformat": 4,
 "nbformat_minor": 0
}
